{
  "cells": [
    {
      "cell_type": "markdown",
      "metadata": {
        "id": "eGOTMzhadCxv"
      },
      "source": [
        "Written by Saraswat Bhattacharyya."
      ]
    },
    {
      "cell_type": "markdown",
      "metadata": {
        "id": "UjHlDZ3cw5My"
      },
      "source": [
        "Big To-Do list for Backend:\n",
        "\n",
        "> Find better metrics for Category Score, Final Evaluation and Preference Update algorithm for recommendation weights\n",
        "\n",
        "> Write better code to identify the person (e.g. middle names, initials, special characters, orcid identifiers)"
      ]
    },
    {
      "cell_type": "markdown",
      "metadata": {
        "id": "WO2LTEGfxYVv"
      },
      "source": [
        "Optimizations / Improvements suggested:\n",
        "> Theoretical Physics database in readable format\n",
        "\n",
        "> Better way to identify people on ArXiv.\n",
        "\n",
        "> Make recommendation algorithm less ad-hoc\n",
        "\n",
        "> Front end"
      ]
    },
    {
      "cell_type": "markdown",
      "metadata": {
        "id": "ClGFdGCUw8KL"
      },
      "source": [
        "### EXTRACT AUTHOR DETAILS FROM ARXIV API"
      ]
    },
    {
      "cell_type": "code",
      "execution_count": null,
      "metadata": {
        "id": "ZaADLyMAMxFY"
      },
      "outputs": [],
      "source": [
        "import urllib, urllib.request\n",
        "from bs4 import BeautifulSoup as bs\n",
        "from collections import Counter\n",
        "\n",
        "import pandas as pd\n",
        "import numpy as np"
      ]
    },
    {
      "cell_type": "markdown",
      "metadata": {
        "id": "qob7zaIrJgNF"
      },
      "source": [
        "To construct a query, refer to https://arxiv.org/help/api/user-manual#query_details\n"
      ]
    },
    {
      "cell_type": "code",
      "execution_count": null,
      "metadata": {
        "id": "vdCwGYHEYm_Y"
      },
      "outputs": [],
      "source": [
        "def find_person(firstname, lastname, max_results=50):\n",
        "  url = 'http://export.arxiv.org/api/query?search_query=au:'+firstname+'+AND+'+lastname+'&start=0&max_results='+str(max_results)\n",
        "  try:\n",
        "    data = urllib.request.urlopen(url)\n",
        "    #bs_content = bs(data.read().decode('utf-8'), \"lxml\")\n",
        "    bs_content = bs(data.read().decode('utf-8'), \"lxml-xml\")\n",
        "    return bs_content\n",
        "  except:\n",
        "    print('Person '+firstname+ ' ' + lastname+' not found.')\n",
        "    return None"
      ]
    },
    {
      "cell_type": "markdown",
      "metadata": {
        "id": "Cxq7cZZfjUVs"
      },
      "source": [
        "We use Beautiful Soup to extract data. For some basic ideas about the syntax of Beautiful Soup, we refer to https://linuxhint.com/parse_xml_python_beautifulsoup/"
      ]
    },
    {
      "cell_type": "markdown",
      "metadata": {
        "id": "pDeHbW1OOtQS"
      },
      "source": [
        "### FIND ArXiv CATEGORY LIST FOR AUTHOR"
      ]
    },
    {
      "cell_type": "markdown",
      "metadata": {
        "id": "M6UuCD1hLZTo"
      },
      "source": [
        "And we simply use a python counter object to count the number of occurences of each category, and level 0 categorization is done"
      ]
    },
    {
      "cell_type": "code",
      "execution_count": null,
      "metadata": {
        "id": "lGvESx2rE9S8"
      },
      "outputs": [],
      "source": [
        "def find_titles(bs_content):\n",
        "  entries = bs_content.find_all(\"entry\")\n",
        "  titles = []\n",
        "  for entry in entries:\n",
        "    all_cats = entry.find_all(\"category\")\n",
        "    for cat in all_cats:\n",
        "      titles.append(cat[\"term\"])\n",
        "\n",
        "  return Counter(titles)"
      ]
    },
    {
      "cell_type": "markdown",
      "metadata": {
        "id": "UdcRwcbaOxyz"
      },
      "source": [
        "### FIND DISTANCE BETWEEN PERSON 'A' AND PERSON 'B' BY EXPANDING CO-AUTHOR LIST"
      ]
    },
    {
      "cell_type": "markdown",
      "metadata": {
        "id": "2VBxwX7lO56D"
      },
      "source": [
        "We implement this technique, only for connections <='depth' in size. They say everyone is connected to everyone through a maximum of 6 people, so 4 isn't too small :) . We expand the author list of both A and B's papers to top 10 people, and then expand their author list to top 10 people. We put this is a list so we avoid overlaps (and this is very basic at the moment)."
      ]
    },
    {
      "cell_type": "code",
      "execution_count": null,
      "metadata": {
        "id": "-MTFvAUKP5YF"
      },
      "outputs": [],
      "source": [
        "def clean_name(author_name):\n",
        "  #this function returns the name as \"Firstname Lastname\", deleting everything else\n",
        "  firstname, lastname = firstlastname(author_name)\n",
        "  return firstname + ' ' + lastname\n",
        "\n",
        "def firstlastname(author_name):\n",
        "  author_name = author_name.replace('\\n', '').replace('.', '')\n",
        "  first_space = author_name.find(' ')\n",
        "  last_space = author_name.rfind(' ')\n",
        "  return author_name[:first_space], author_name[last_space+1:]\n",
        "\n",
        "def find_coauthors(bs_content):\n",
        "  if (bs_content is None):\n",
        "    return Counter()\n",
        "\n",
        "  entries = bs_content.find_all(\"entry\")\n",
        "  coauthors = []\n",
        "  for entry in entries:\n",
        "    all_auths = entry.find_all(\"author\")\n",
        "    if (len(all_auths)>10):\n",
        "      continue\n",
        "    for auth in all_auths:\n",
        "      coauthors.append(clean_name(auth.get_text()))\n",
        "\n",
        "  return Counter(coauthors)\n",
        "\n",
        "def findPageCoauthsFromName(author_name):\n",
        "  fname, lname = firstlastname(author_name)\n",
        "  try:\n",
        "    author_page = find_person(fname, lname)\n",
        "    coauth_list = find_coauthors(author_page)\n",
        "    return author_page, coauth_list\n",
        "  except:\n",
        "    return \"\", Counter()"
      ]
    },
    {
      "cell_type": "code",
      "execution_count": null,
      "metadata": {
        "id": "Bh8oN828eAKu"
      },
      "outputs": [],
      "source": [
        "def lookForConnection(personA, personB, max_depth = 2, debug = 0):\n",
        "  personA_FN, personA_LN = firstlastname(personA)\n",
        "  personB_FN, personB_LN = firstlastname(personB)\n",
        "  A_page = find_person(personA_FN, personA_LN)\n",
        "  B_page = find_person(personB_FN, personB_LN)\n",
        "\n",
        "  A_coauth_list = find_coauthors(A_page)\n",
        "  B_coauth_list = find_coauthors(B_page)\n",
        "  A_seen_list = [personA]\n",
        "  B_seen_list = [personB]\n",
        "\n",
        "  found_flag = False\n",
        "  depth = 0\n",
        "\n",
        "  if ( next((x for x in A_seen_list if x == personB), None) != None ): #list iterator\n",
        "    #A and B are coauthors\n",
        "    return True, 0\n",
        "\n",
        "  depth = 1\n",
        "  while(depth <= max_depth):\n",
        "    for auth1, n in A_coauth_list.most_common(10*depth)[1:]:\n",
        "      if ( next((x for x in B_seen_list if x == auth1), None) != None ):\n",
        "        #match has been found\n",
        "        print(\"Connection found at depth = \" + str(depth)  + \" through \" + auth1)\n",
        "        found_flag = True\n",
        "        return True, depth\n",
        "\n",
        "      if ( next((x for x in A_seen_list if x == auth1), None) == None ):\n",
        "        auth1_F, auth1_L = firstlastname(auth1)\n",
        "        A_coauth_list.update(find_coauthors(find_person(auth1_F, auth1_L , max_results = 10) ) )\n",
        "        A_seen_list.append(auth1)\n",
        "      else:\n",
        "        #person has been processed\n",
        "        continue\n",
        "\n",
        "    for auth1, n in B_coauth_list.most_common(10*depth)[1:]:\n",
        "      if ( next((x for x in A_seen_list if x == auth1), None) != None ):\n",
        "        #person has been found\n",
        "        print(\"Connection found at depth = \" + str(depth) + \" through \" + auth1)\n",
        "        found_flag = True\n",
        "        return True, depth\n",
        "\n",
        "      if ( next((x for x in B_seen_list if x == auth1), None) == None ):\n",
        "        auth1_F, auth1_L = firstlastname(auth1)\n",
        "        B_coauth_list.update(find_coauthors(find_person(auth1_F, auth1_L, max_results = 10) ) )\n",
        "        B_seen_list.append(auth1)\n",
        "      else:\n",
        "        #person has been processed\n",
        "        continue\n",
        "\n",
        "    depth = depth + 1\n",
        "\n",
        "\n",
        "  return False, max_depth"
      ]
    },
    {
      "cell_type": "code",
      "execution_count": null,
      "metadata": {
        "id": "sLT0cpifLesk"
      },
      "outputs": [],
      "source": [
        "def quickConnectionSearch(userA, seminarB, debug=1):\n",
        "    coauthsA = userA.coauths\n",
        "    coauthsB = seminarB.coauths\n",
        "    coauthsInt = coauthsA & coauthsB\n",
        "\n",
        "    if (debug == 1):\n",
        "      print(coauthsA)\n",
        "      print(coauthsB)\n",
        "      print(coauthsInt)\n",
        "\n",
        "    #print(coauthsInt)\n",
        "    coauthsScore = 0\n",
        "    for key in coauthsInt:\n",
        "        coauthsScore += 1\n",
        "        #print(key)\n",
        "\n",
        "    return coauthsScore"
      ]
    },
    {
      "cell_type": "markdown",
      "metadata": {
        "id": "v-5VNOm7gFgf"
      },
      "source": [
        "### CREATING THE USER CLASS AND CATEGORY LISTS"
      ]
    },
    {
      "cell_type": "markdown",
      "metadata": {
        "id": "2bfGM6tCgYqU"
      },
      "source": [
        "We start off with defining a structure which contains every single arxiv category. We will add the preference for each category as a feature vector for each person, in the recommender algorithm. We organize this in lists, with separate preferences for subcategory and full category.\n",
        "\n",
        "Full category preference = average of subcategory"
      ]
    },
    {
      "cell_type": "markdown",
      "metadata": {
        "id": "WlKGksHA293S"
      },
      "source": [
        "##### ARXIV CATEGORIES"
      ]
    },
    {
      "cell_type": "code",
      "execution_count": null,
      "metadata": {
        "id": "1yev8dROoys4"
      },
      "outputs": [],
      "source": [
        "def find_bigcat(full_category):\n",
        "  dot_loc = full_category.find('.')\n",
        "  if (dot_loc == -1):\n",
        "    return full_category\n",
        "  big_cat = full_category[:dot_loc]\n",
        "  return big_cat"
      ]
    },
    {
      "cell_type": "code",
      "execution_count": null,
      "metadata": {
        "id": "zlhruNBZkDbs"
      },
      "outputs": [],
      "source": [
        "#added from here: https://arxiv.org/category_taxonomy\n",
        "\n",
        "big_cats = ['cs', 'econ', 'eess', 'math', 'astro-ph', 'cond-mat', 'gr-qc', 'hep-ex', \\\n",
        "            'hep-lat', 'hep-ph', 'hep-th', 'math-ph', 'nlin', 'nucl-ex', 'nucl-th', \\\n",
        "            'physics', 'quant-ph', 'q-bio', 'q-fin', 'stat']\n",
        "\n",
        "n_cats = len(big_cats)\n",
        "sub_cats = [None]*n_cats\n",
        "\n",
        "#typical format for adding lists to the big list\n",
        "cs_list = ['cs.AI', 'cs.AR', 'cs.CC', 'cs.CE', 'cs.CG', 'cs.CL', 'cs.CR', 'cs.CV', 'cs.CY', \\\n",
        "          'cs.DB', 'cs.DC', 'cs.DL', 'cs.DM', 'cs.DS', 'cs.ET', 'cs.FL', 'cs.GL', 'cs.GR', 'cs.GT', \\\n",
        "          'cs.HC', 'cs.IR', 'cs.IT', 'cs.LG', 'cs.LO', 'cs.MA', 'cs.MM', 'cs.MS', 'cs.NA', 'cs.NE', \\\n",
        "          'cs.NI', 'cs.OH', 'cs.PF', 'cs.PL', 'cs.RO', 'cs.SC', 'cs.SD', 'cs.SE', 'cs.SI', 'cs.SY']\n",
        "cs_idx = big_cats.index(find_bigcat(cs_list[0]))\n",
        "sub_cats[cs_idx] = cs_list\n",
        "\n",
        "#next\n",
        "econ_list = ['econ.EM', 'econ.GN', 'econ.TH']\n",
        "econ_idx = big_cats.index(find_bigcat(econ_list[0]))\n",
        "sub_cats[econ_idx] = econ_list\n",
        "\n",
        "#next\n",
        "eess_list = ['eess.AS', 'eess.IV', 'eess.SP', 'eess.SY']\n",
        "eess_idx = big_cats.index(find_bigcat(eess_list[0]))\n",
        "sub_cats[eess_idx] = eess_list\n",
        "\n",
        "#next\n",
        "math_list = ['math.AC', 'math.AG', 'math.AP', 'math.AT', 'math.CA', 'math.CO', 'math.CT', 'math.CV', \\\n",
        "             'math.DG', 'math.DS', 'math.FA', 'math.GM', 'math.GN', 'math.GR', 'math.GT', 'math.HO', \\\n",
        "             'math.IT', 'math.KT', 'math.LO', 'math.MG', 'math.MP', 'math.NA', 'math.NT', 'math.OA', \\\n",
        "             'math.OC', 'math.PR', 'math.QA', 'math.RA', 'math.RT', 'math.SG', 'math.SP', 'math.ST']\n",
        "math_idx = big_cats.index(find_bigcat(math_list[0]))\n",
        "sub_cats[math_idx] = math_list\n",
        "\n",
        "#next\n",
        "astro_list = ['astro-ph.CO', 'astro-ph.EP', 'astro-ph.GA', 'astro-ph.HE', 'astro-ph.IM', 'astro-ph.SR']\n",
        "astro_idx = big_cats.index(find_bigcat(astro_list[0]))\n",
        "sub_cats[astro_idx] = astro_list\n",
        "\n",
        "#another one\n",
        "cond_mat_list = ['cond-mat.dis-nn', 'cond-mat.mes-hall', 'cond-mat.mtrl-sci', \\\n",
        "                 'cond-mat.other', 'cond-mat.quant-gas', 'cond-mat.soft', \\\n",
        "                 'cond-mat.stat-mech', 'cond-mat.str-el', 'cond-mat.supr-con']\n",
        "cond_mat_idx = big_cats.index(find_bigcat(cond_mat_list[0]))\n",
        "sub_cats[cond_mat_idx] = cond_mat_list\n",
        "\n",
        "gr_list = ['gr-qc']\n",
        "gr_idx = big_cats.index(find_bigcat(gr_list[0]))\n",
        "sub_cats[gr_idx] = gr_list\n",
        "\n",
        "hep_ex_list = ['hep-ex']\n",
        "hep_ex_idx = big_cats.index(find_bigcat(hep_ex_list[0]))\n",
        "sub_cats[hep_ex_idx] = hep_ex_list\n",
        "\n",
        "hep_lat_list = ['hep-lat']\n",
        "hep_lat_idx = big_cats.index(find_bigcat(hep_lat_list[0]))\n",
        "sub_cats[hep_lat_idx] = hep_lat_list\n",
        "\n",
        "hep_ph_list = ['hep-ph']\n",
        "hep_ph_idx = big_cats.index(find_bigcat(hep_ph_list[0]))\n",
        "sub_cats[hep_ph_idx] = hep_ph_list\n",
        "\n",
        "hep_th_list = ['hep-th']\n",
        "hep_th_idx = big_cats.index(find_bigcat(hep_th_list[0]))\n",
        "sub_cats[hep_th_idx] = hep_th_list\n",
        "\n",
        "math_ph_list = ['math-ph']\n",
        "math_ph_idx = big_cats.index(find_bigcat(math_ph_list[0]))\n",
        "sub_cats[math_ph_idx] = math_ph_list\n",
        "\n",
        "#another one\n",
        "nlin_list = ['nlin.AO', 'nlin.CD', 'nlin.CG', 'nlin.PS', 'nlin.SI']\n",
        "nlin_idx = big_cats.index(find_bigcat(nlin_list[0]))\n",
        "sub_cats[nlin_idx] = nlin_list\n",
        "\n",
        "nucl_ex_list = ['nucl-ex']\n",
        "nucl_ex_idx = big_cats.index(find_bigcat(nucl_ex_list[0]))\n",
        "sub_cats[nucl_ex_idx] = nucl_ex_list\n",
        "\n",
        "nucl_th_list = ['nucl-th']\n",
        "nucl_th_idx = big_cats.index(find_bigcat(nucl_th_list[0]))\n",
        "sub_cats[nucl_th_idx] = nucl_th_list\n",
        "\n",
        "phys_list = ['physics.acc-ph', 'physics.ao-ph', 'physics.app-ph', 'physics.atm-clus', \\\n",
        "             'physics.atom-ph', 'physics.bio-ph', 'physics.chem-ph', 'physics.class-ph', \\\n",
        "             'physics.comp-ph', 'physics.data-an', 'physics.ed-ph', 'physics.flu-dyn', \\\n",
        "             'physics.gen-ph', 'physics.geo-ph', 'physics.hist-ph', 'physics.ins-det', \\\n",
        "             'physics.med-ph', 'physics.optics', 'physics.plasm-ph', 'physics.pop-ph', \\\n",
        "             'physics.soc-ph', 'physics.space-ph']\n",
        "phys_idx = big_cats.index(find_bigcat(phys_list[0]))\n",
        "sub_cats[phys_idx] = phys_list\n",
        "\n",
        "quant_ph_list = ['quant-ph']\n",
        "quant_ph_idx = big_cats.index(find_bigcat(quant_ph_list[0]))\n",
        "sub_cats[quant_ph_idx] = quant_ph_list\n",
        "\n",
        "q_bio_list = ['q-bio.BM', 'q-bio.CB', 'q-bio.GN', 'q-bio.MN', 'q-bio.NC', 'q-bio.OT', 'q-bio.PE', \\\n",
        "              'q-bio.QM', 'q-bio.SC', 'q-bio.TO']\n",
        "q_bio_idx = big_cats.index(find_bigcat(q_bio_list[0]))\n",
        "sub_cats[q_bio_idx] = q_bio_list\n",
        "\n",
        "q_fin_list = ['q-fin.CP', 'q-fin.EC', 'q-fin.EC', 'q-fin.GN', 'q-fin.MF', 'q-fin.PM', 'q-fin.PR', \\\n",
        "              'q-fin.RM', 'q-fin.ST', 'q-fin.TR']\n",
        "q_fin_idx = big_cats.index(find_bigcat(q_fin_list[0]))\n",
        "sub_cats[q_fin_idx] = q_fin_list\n",
        "\n",
        "stat_list = ['stat.AP', 'stat.CO', 'stat.ME', 'stat.ML', 'stat.OT', 'stat.TH']\n",
        "stat_idx = big_cats.index(find_bigcat(stat_list[0]))\n",
        "sub_cats[stat_idx] = stat_list\n",
        "\n",
        "#what sub_cats looks like\n",
        "#sub_cats"
      ]
    },
    {
      "cell_type": "code",
      "execution_count": null,
      "metadata": {
        "id": "jjM-f29quSNn"
      },
      "outputs": [],
      "source": [
        "#flatten the subcats list to form the full index list, replacing empty indices with the title label\n",
        "full_flat_list = []\n",
        "cat_label_list = []\n",
        "cat_start_idx = np.zeros(n_cats) #inclusive\n",
        "cat_end_idx = np.zeros(n_cats) #exclusive\n",
        "\n",
        "for i in range(n_cats):\n",
        "  if (sub_cats[i] is None):\n",
        "    full_flat_list.append(big_cats[i])\n",
        "    cat_label_list.append(i)\n",
        "  else:\n",
        "    for subcat in sub_cats[i]:\n",
        "      full_flat_list.append(subcat)\n",
        "      cat_label_list.append(i)\n",
        "\n",
        "n_fullsubcats = len(full_flat_list)\n",
        "for i in range(1, n_cats-1):\n",
        "  cat_start_idx[i] = cat_label_list.index(i)\n",
        "  cat_end_idx[i] = cat_label_list.index(i+1)\n",
        "\n",
        "cat_start_idx[-1] = cat_label_list.index(n_cats-1)\n",
        "cat_end_idx[0] = cat_label_list.index(1)\n",
        "cat_end_idx[-1] = n_fullsubcats\n",
        "\n",
        "#full_flat_list\n",
        "#cat_label_list"
      ]
    },
    {
      "cell_type": "markdown",
      "metadata": {
        "id": "pqcygtva3Ozq"
      },
      "source": [
        "#### USERS"
      ]
    },
    {
      "cell_type": "code",
      "execution_count": null,
      "metadata": {
        "id": "YcSO9AKw3eYL"
      },
      "outputs": [],
      "source": [
        "class EndUser:\n",
        "  def __init__(self, name, id, big_cat_pref, lil_cat_pref):\n",
        "    self.name = name\n",
        "    self.id = id\n",
        "\n",
        "    self.page, self.coauths = findPageCoauthsFromName(self.name)\n",
        "\n",
        "    #volatility parameters: count previous instances seen\n",
        "    self.fc_volN = [1]*n_cats\n",
        "    self.sc_volN = [1]*n_fullsubcats\n",
        "\n",
        "    self.cat_list = [0]*n_cats\n",
        "    if type(big_cat_pref) is list:\n",
        "      for pref in big_cat_pref:\n",
        "        try:\n",
        "          self.cat_list[big_cats.index(pref)] = 1\n",
        "        except:\n",
        "          print(str(pref)+' not found')\n",
        "    else:\n",
        "      try:\n",
        "        self.cat_list[big_cats.index(big_cat_pref)] = 1\n",
        "      except:\n",
        "        print(str(big_cat_pref)+' not found')\n",
        "\n",
        "    self.subcat_list = [0]*n_fullsubcats\n",
        "    if type(lil_cat_pref) is list:\n",
        "      for pref in lil_cat_pref:\n",
        "        try:\n",
        "          self.subcat_list[full_flat_list.index(pref)] = 1\n",
        "        except:\n",
        "          print(str(pref)+' not found')\n",
        "    else:\n",
        "      try:\n",
        "        self.subcat_list[full_flat_list.index(lil_cat_pref)] = 1\n",
        "      except:\n",
        "        print(str(lil_cat_pref)+' not found')\n",
        "\n",
        "    self.keywordList = []\n",
        "\n",
        "    #def evaluateAutocatScore(self):\n",
        "    #  Fname, Lname = firstlastname(self.name)\n",
        "    #  bs_content = find_person(Fname, Lname, 100)\n",
        "    #  self.cat_lists = find_titles(bs_content).most_common(15)\n",
        "\n",
        "  def addKeywords(self, addKeywordList):\n",
        "    self.keywordList.append(addKeywordList)\n",
        "\n",
        "  def deleteKeywords(self, deleteKeywordList):\n",
        "    try:\n",
        "        self.keywordList.delete(deleteKeywordList)\n",
        "    except:\n",
        "        print(\"Keyword \" + str(deleteKeywordList) + \" not found\")\n",
        "\n",
        "  def addMultipleKeywords(self, multipleKeywords):\n",
        "    for keyword in multipleKeywords:\n",
        "      self.addKeywords(keyword)\n",
        "\n",
        "  def deleteMultipleKeywords(self, multipleKeywords):\n",
        "    for keyword in multipleKeywords:\n",
        "      self.deleteKeywords(keyword)\n",
        "\n",
        "  def evaluateAuthor(self, randomAuthor):\n",
        "    fullCatScore, subCatScore = self.calcCatScore(randomAuthor)\n",
        "\n",
        "    isConnection, connDepth = lookForConnection(self.name, randomAuthor, 2)\n",
        "    connectionScore = 1.0/connDepth if isConnection else 0\n",
        "\n",
        "    #construct a score, currently arbitrary\n",
        "    return 5*connectionScore + fullCatScore + subCatScore\n",
        "\n",
        "  def evaluateSeminar(self, randomSeminar, debug = 0):\n",
        "    fullCatScore, subCatScore = self.calcCatScore_seminar(randomSeminar)\n",
        "    coauthsScore = quickConnectionSearch(self, randomSeminar, debug)\n",
        "    keywordScore = self.calcKeywordScore(randomSeminar)\n",
        "    totalScore = 5*coauthsScore + fullCatScore + subCatScore + keywordScore\n",
        "\n",
        "\n",
        "    if (debug == 1):\n",
        "         print(str(randomSeminar.author_name)+\" | \"+str(round(fullCatScore, 2))+ \" | \" +\n",
        "               str(round(subCatScore, 2)) + \" | \" + str(round(coauthsScore, 2)) + \" | \" +\n",
        "               str(round(keywordScore, 2)) + \" | \" + str(round(totalScore, 2)) + \" | \"+ str(randomSeminar.title) )\n",
        "\n",
        "    return totalScore\n",
        "\n",
        "  def updatePrefs(self, randomAuthor, userInput):\n",
        "    \"\"\"\n",
        "    Update the end user preference values by using the scoring mechanism.\n",
        "    d (User preference) = (Userinput-3)/5.0*(1/sqrt(volN))*(difference in pref)\n",
        "    \"\"\"\n",
        "\n",
        "    bigCatUpdate, subCatUpdate = self.updateCatScore(randomAuthor, userInput)\n",
        "\n",
        "    for i in range(n_cats):\n",
        "      self.cat_list[i] = self.cat_list[i]+bigCatUpdate[i]\n",
        "    for i in range(n_fullsubcats):\n",
        "      self.subcat_list[i] = self.subcat_list[i]+subCatUpdate[i]\n",
        "\n",
        "    return\n",
        "\n",
        "  def updateCatScore(self, randomAuthor, userInput):\n",
        "    Fname, Lname = firstlastname(randomAuthor)\n",
        "    bs_content = find_person(Fname, Lname, 100)\n",
        "    categoryCounter = find_titles(bs_content).most_common(10) #\n",
        "\n",
        "    subcat_tmp = [0]*n_fullsubcats\n",
        "    bigcat_tmp = [0]*n_cats\n",
        "    fullCatScore = [0]*n_cats\n",
        "    subCatScore = [0]*n_fullsubcats\n",
        "\n",
        "    val_max = 0.00001\n",
        "    bigval_max = 0.0001\n",
        "\n",
        "    for key, val in categoryCounter:\n",
        "      try:\n",
        "        sigmoid_val = 1.0/(1+np.exp(-(val-4)))\n",
        "        bigcat_key = big_cats.index(find_bigcat(key))\n",
        "\n",
        "        subcat_tmp[full_flat_list.index(key)] = sigmoid_val\n",
        "        bigcat_tmp[bigcat_key] = bigcat_tmp[bigcat_key] + sigmoid_val\n",
        "\n",
        "        if (sigmoid_val > val_max):\n",
        "          val_max = sigmoid_val\n",
        "        if (bigcat_tmp[bigcat_key] > bigval_max):\n",
        "          bigval_max = bigcat_tmp[bigcat_key]\n",
        "\n",
        "      except:\n",
        "        print(key + ' not found in list')\n",
        "\n",
        "    #scoring with the sigmoid value\n",
        "\n",
        "\n",
        "    if (val_max >= 0.05):\n",
        "      for i in range(n_fullsubcats):\n",
        "        if (subcat_tmp[i] > 0):\n",
        "          subCatScore[i] = (subcat_tmp[i]/val_max-self.subcat_list[i])*(userInput - 3.0)/5.0/np.sqrt(self.sc_volN[i])\n",
        "          self.sc_volN[i] = self.sc_volN[i] + 1\n",
        "\n",
        "      for i in range(n_cats):\n",
        "        if (bigcat_tmp[i] > 0):\n",
        "          fullCatScore[i] = (bigcat_tmp[i]/val_max-self.cat_list[i])*(userInput - 3.0)/5.0/np.sqrt(self.fc_volN[i])\n",
        "          self.fc_volN[i] = self.fc_volN[i] + 1\n",
        "\n",
        "    #print('Category score = ' + str(bigscore))\n",
        "    #print('Subcategory score = ' + str(score))\n",
        "    return fullCatScore, subCatScore\n",
        "\n",
        "  def calcCatScore_subcat(self, subcatsCounter):\n",
        "    \"\"\"\n",
        "    Calculate the category score of the given subcats with the current EndUser object.\n",
        "    Defined as subcat category .* EndUser preferences.\n",
        "    \"\"\"\n",
        "\n",
        "    categoryCounter = subcatsCounter #must be inputted in proper form, as a counter object\n",
        "\n",
        "    subcat_tmp = [0]*n_fullsubcats\n",
        "    bigcat_tmp = [0]*n_cats\n",
        "    val_max = 0.00001 #avoiding divide by 0 errors\n",
        "    bigval_max = 0.0001\n",
        "\n",
        "\n",
        "    for key, val in categoryCounter:\n",
        "      try:\n",
        "        sigmoid_val = 1.0/(1+np.exp(-(val-5)))\n",
        "        bigcat_key = big_cats.index(find_bigcat(key))\n",
        "\n",
        "        subcat_tmp[full_flat_list.index(key)] = sigmoid_val\n",
        "        bigcat_tmp[bigcat_key] = bigcat_tmp[bigcat_key] + sigmoid_val\n",
        "\n",
        "        if (sigmoid_val > val_max):\n",
        "          val_max = sigmoid_val\n",
        "        if (bigcat_tmp[bigcat_key] > bigval_max):\n",
        "          bigval_max = bigcat_tmp[bigcat_key]\n",
        "\n",
        "      except:\n",
        "        print(key + ' not found in list')\n",
        "\n",
        "    #scoring with the sigmoid value\n",
        "\n",
        "    bigscore = 0\n",
        "    score = 0\n",
        "    if (val_max >= 0.05):\n",
        "      for i in range(n_fullsubcats):\n",
        "        score = score + subcat_tmp[i]/val_max*self.subcat_list[i]\n",
        "\n",
        "      for i in range(n_cats):\n",
        "        bigscore = bigscore + bigcat_tmp[i]/bigval_max*self.cat_list[i]\n",
        "    else:\n",
        "      for i in range(n_fullsubcats):\n",
        "        score = score + subcat_tmp[i]*self.subcat_list[i]\n",
        "\n",
        "      for i in range(n_cats):\n",
        "        bigscore = bigscore + bigcat_tmp[i]*self.cat_list[i]\n",
        "\n",
        "    #print('Category score = ' + str(bigscore))\n",
        "    #print('Subcategory score = ' + str(score))\n",
        "    return bigscore, score\n",
        "\n",
        "  def calcCatScore(self, randomAuthor):\n",
        "    \"\"\"\n",
        "    Calculate the category score of the author with the current EndUser object.\n",
        "    Defined as Author category .* EndUser preferences.\n",
        "    \"\"\"\n",
        "\n",
        "    Fname, Lname = firstlastname(randomAuthor)\n",
        "    bs_content = find_person(Fname, Lname, 100)\n",
        "    categoryCounter = find_titles(bs_content).most_common(10) #\n",
        "\n",
        "    return self.calcCatScore_subcat(categoryCounter)\n",
        "\n",
        "  def calcCatScore_seminar(self, randomSeminar):\n",
        "    return self.calcCatScore_subcat(randomSeminar.cat_lists)\n",
        "\n",
        "  def calcKeywordScore(self, randomSeminar):\n",
        "    keywordScore = 0\n",
        "    lowerTitle = randomSeminar.title.lower()\n",
        "    for keyword in self.keywordList:\n",
        "        keywordIndex1 = randomSeminar.abstract.find(keyword)\n",
        "        keywordIndex2 = lowerTitle.find(keyword)\n",
        "        if not( (keywordIndex1==-1) and (keywordIndex2==-1)):\n",
        "          keywordScore+=1\n",
        "    return keywordScore\n",
        "\n",
        "  #helper functions\n",
        "  def __str__(self):\n",
        "    personString = \"User = \" + self.name + \" ||| Categories: \"\n",
        "    for i in range(len(big_cats)):\n",
        "      if (self.cat_list[i]>=0.70): #distinction\n",
        "        personString = personString + str(big_cats[i]) + \" | \"\n",
        "    personString = personString + \"||| Keywords: \"\n",
        "    for keyword in self.keywordList:\n",
        "        personString = personString + str(keyword) + \" | \"\n",
        "    return personString\n",
        "\n",
        "  def printKeywords(self):\n",
        "    keywordString = \"\"\n",
        "    for keyword in self.keywordList:\n",
        "      keywordString = keywordString + str(keyword) + \"| \"\n",
        "    print(keywordString)"
      ]
    },
    {
      "cell_type": "markdown",
      "metadata": {
        "id": "VhNuwuH9Ds4m"
      },
      "source": [
        "#### SEMINARS"
      ]
    },
    {
      "cell_type": "code",
      "execution_count": null,
      "metadata": {
        "id": "NHE2wMReDs4m"
      },
      "outputs": [],
      "source": [
        "class Seminar:\n",
        "  def __init__(self, title, id, date, author_name, author_affiliation=\"\", abstract=\"\", user_catLists = \"\"):\n",
        "    self.title = title\n",
        "    self.id = id\n",
        "    self.date = date\n",
        "\n",
        "    self.author_name = author_name\n",
        "    self.page, self.coauths = findPageCoauthsFromName(self.author_name)\n",
        "\n",
        "    self.affiliation = author_affiliation\n",
        "    self.abstract = abstract\n",
        "\n",
        "    self.cat_confidence = 0.0\n",
        "    self.cat_lists = Counter(user_catLists)\n",
        "    if (user_catLists == \"\"):\n",
        "        self.evaluateCatScore()\n",
        "        self.cat_confidence = 0.70\n",
        "    else:\n",
        "        self.cat_confidence = 0.95\n",
        "        self.evaluateCatScore()\n",
        "        user_defined_list = Counter(user_catLists)\n",
        "        for k in user_defined_list.keys():\n",
        "            self.cat_lists[k]+=20\n",
        "\n",
        "  def evaluateCatScore(self):\n",
        "    Fname, Lname = firstlastname(self.author_name)\n",
        "    bs_content = find_person(Fname, Lname, 100)\n",
        "    self.cat_lists = find_titles(bs_content).most_common(15)\n",
        "\n",
        "  def evaluateUserOld(self, randomUser):\n",
        "    \"\"\"\n",
        "    Evaluates how a user would like the given seminar, using the user's CatScore Function\n",
        "    \"\"\"\n",
        "    fullCatScore, subCatScore = randomUser.calcCatScore_subcat(self.cat_lists)\n",
        "    isConnection, connDepth = lookForConnection(self.author_name, randomUser.name, 1)\n",
        "    connectionScore = 0\n",
        "    if (isConnection):\n",
        "      connectionScore = 1.0/connDepth\n",
        "\n",
        "    #construct a score, currently arbitrary\n",
        "    return 5*connectionScore + fullCatScore + subCatScore\n",
        "\n",
        "  def evaluateUser(self, randomUser, debug=0):\n",
        "    return randomUser.evaluateSeminar(self, debug)\n",
        "\n",
        "  def updatePrefs(self, randomUser, userInput):\n",
        "    \"\"\"\n",
        "    Does nothing right now. Update the seminar rating based on the user's rating and preferences\n",
        "    This is where the cat_confidence parameter might be used\n",
        "    \"\"\"\n",
        "\n",
        "    pass\n",
        "\n",
        "  ## helper functions\n",
        "  def __str__(self):\n",
        "    seminarString = self.title + \" | \" + self.author_name + \" | \" + self.date.strftime('%c')\n",
        "    return seminarString\n",
        "\n",
        "  def compareSeminar(self, testSeminar):\n",
        "    \"\"\"\n",
        "    Compare seminars to avoid overlapping from multiple sources\n",
        "    \"\"\"\n",
        "    Fname1, Lname1 = firstlastname(self.author_name)\n",
        "    Fname2, Lname2 = firstlastname(testSeminar.author_name)\n",
        "    if (Lname1 != Lname2):\n",
        "      return False\n",
        "\n",
        "    if (self.date == testSeminar.date):\n",
        "      return True\n",
        "    else:\n",
        "      return False"
      ]
    },
    {
      "cell_type": "markdown",
      "metadata": {
        "id": "mZLO5OYUFZ6N"
      },
      "source": [
        "### EXTRACTING DATA FROM INSPIRE"
      ]
    },
    {
      "cell_type": "code",
      "execution_count": null,
      "metadata": {
        "id": "jZkcOdf4m2pF"
      },
      "outputs": [],
      "source": [
        "import json\n",
        "import requests\n",
        "import datetime"
      ]
    },
    {
      "cell_type": "markdown",
      "metadata": {
        "id": "JMVK4g7emaU1"
      },
      "source": [
        "#### INSPIRE"
      ]
    },
    {
      "cell_type": "markdown",
      "metadata": {
        "id": "YDw4Aw-xmddG"
      },
      "source": [
        "The HEP server"
      ]
    },
    {
      "cell_type": "code",
      "execution_count": null,
      "metadata": {
        "colab": {
          "base_uri": "https://localhost:8080/",
          "height": 35
        },
        "id": "7qtbgdnYFeYC",
        "outputId": "53a0174e-f0af-40de-a87f-99e34429a611"
      },
      "outputs": [
        {
          "output_type": "execute_result",
          "data": {
            "text/plain": [
              "'https://inspirehep.net/api/seminars?sort=datedesc&size=25&page=1&start_date=all&q=series.name%3A\"Oxford%20Theoretical%20Particle%20Physics%20seminar\"'"
            ],
            "application/vnd.google.colaboratory.intrinsic+json": {
              "type": "string"
            }
          },
          "metadata": {},
          "execution_count": 13
        }
      ],
      "source": [
        "urltest = \"https://inspirehep.net/api/seminars?sort=datedesc&size=25&page=1&start_date=all&q=series.name%3A\\\"Oxford%20Theoretical%20Particle%20Physics%20seminar\\\"\"\n",
        "urltest"
      ]
    },
    {
      "cell_type": "code",
      "execution_count": null,
      "metadata": {
        "id": "phdzQvC1Hqmi"
      },
      "outputs": [],
      "source": [
        "import requests\n",
        "var=requests.get(urltest)\n",
        "PTfile=json.loads(var.content)"
      ]
    },
    {
      "cell_type": "code",
      "execution_count": null,
      "metadata": {
        "id": "mnuanuAW5deR"
      },
      "outputs": [],
      "source": [
        "def parseInspireName(strName):\n",
        "  commaIndex = strName.find(',')\n",
        "  lastName = strName[0:commaIndex]\n",
        "  firstName = strName[commaIndex+2:]\n",
        "  authorName = firstName + ' ' + lastName\n",
        "  return authorName"
      ]
    },
    {
      "cell_type": "markdown",
      "metadata": {
        "id": "slkggErwug_p"
      },
      "source": [
        "### MAIN CODE"
      ]
    },
    {
      "cell_type": "code",
      "execution_count": null,
      "metadata": {
        "id": "cd0TaLKnukJv"
      },
      "outputs": [],
      "source": [
        "global seminar_list, user_list, seminarCount, userCount\n",
        "seminar_list = []\n",
        "user_list = []\n",
        "\n",
        "userCount = 0\n",
        "seminarCount = 0"
      ]
    },
    {
      "cell_type": "code",
      "execution_count": null,
      "metadata": {
        "id": "1CabE6V9vE4Y"
      },
      "outputs": [],
      "source": [
        "def createNewSeminar(title, date, author_name, author_affiliation=\"\", abstract=\"\", user_catLists = \"\"):\n",
        "  #code to check duplicates will go here first\n",
        "  global seminarCount\n",
        "  newSeminar = Seminar(title, seminarCount, date, author_name, author_affiliation, str.lower(abstract), user_catLists)\n",
        "  seminarCount+=1\n",
        "  seminar_list.append(newSeminar)\n",
        "\n",
        "def createNewUser(name, big_cat_pref, lil_cat_pref):\n",
        "  #code to check for duplicates will go here\n",
        "  global userCount\n",
        "  newUser = EndUser(name, userCount, big_cat_pref, lil_cat_pref)\n",
        "  userCount+=1\n",
        "  user_list.append(newUser)"
      ]
    },
    {
      "cell_type": "code",
      "execution_count": null,
      "metadata": {
        "id": "KlpRYrfHvFA5"
      },
      "outputs": [],
      "source": [
        "def loadINSPIRESeminars():\n",
        "  inspireURL =  \"https://inspirehep.net/api/seminars?sort=datedesc&size=25&page=1&start_date=all&q=series.name%3A\\\"Oxford%20Theoretical%20Particle%20Physics%20seminar\\\"\"\n",
        "  var=requests.get(urltest)\n",
        "  PTfile=json.loads(var.content)\n",
        "\n",
        "  for seminarEvent in PTfile['hits']['hits']:\n",
        "    semTitle = seminarEvent['metadata']['title']['title'];\n",
        "    semDate = datetime.datetime.fromisoformat(seminarEvent['metadata']['start_datetime'])\n",
        "    semAuthor = parseInspireName(seminarEvent['metadata']['speakers'][0]['name'])\n",
        "    semAffil = seminarEvent['metadata']['speakers'][0]['affiliations'][0]['value']\n",
        "    createNewSeminar(semTitle, semDate, semAuthor, semAffil)"
      ]
    },
    {
      "cell_type": "markdown",
      "source": [
        "### DEMONSTRATION"
      ],
      "metadata": {
        "id": "Tdo8BJyqRoTV"
      }
    },
    {
      "cell_type": "markdown",
      "source": [
        "First, load the current list of seminars from INSPIRE"
      ],
      "metadata": {
        "id": "DEobhJ9lxk-s"
      }
    },
    {
      "cell_type": "code",
      "execution_count": null,
      "metadata": {
        "id": "lbf67lz5vFGb"
      },
      "outputs": [],
      "source": [
        "loadINSPIRESeminars()"
      ]
    },
    {
      "cell_type": "code",
      "execution_count": null,
      "metadata": {
        "colab": {
          "base_uri": "https://localhost:8080/"
        },
        "id": "WLk1S_Df8BPZ",
        "outputId": "481b8b77-a660-4fb5-f977-2f2b90eba9e6",
        "collapsed": true
      },
      "outputs": [
        {
          "output_type": "stream",
          "name": "stdout",
          "text": [
            "Kaon Decays as a Probe for New Physics | Stefan Schacht | Thu Jun 15 15:00:00 2023\n",
            "High Energy Resummation for Jet Processes at the LHC | Jennifer M. Smillie | Thu Jun  8 15:00:00 2023\n",
            "Extended Path Intensity Correlation | Ken Van Tilburg | Thu Jun  1 15:00:00 2023\n",
            "Topological Aspects of String Phenomenology | Jonathan J. Heckman | Thu May 25 15:00:00 2023\n",
            "Fits of alpha_s using power corrections in the 3-jet region | Giulia Zanderighi | Thu May 18 15:00:00 2023\n",
            "Precision LHC predictions for top and dark matter | Jonas M. Lindert | Thu May 11 15:00:00 2023\n",
            "Effective field theory for cosmological phase transitions | Oliver Gould | Thu May  4 15:00:00 2023\n",
            "Dark Energy with a little help from its friends | S.L. Parameswaran | Thu Apr 27 15:00:00 2023\n",
            "Chaotic spin-chains in AdS/CFT | Anne Spiering | Thu Apr 20 15:00:00 2023\n",
            "Hadronic vacuum-polarisation of the photon: lattice SM predictions, experimental data and the muon g-2 puzzle | Roberto Frezzotti | Thu Mar  9 16:00:00 2023\n",
            "Logarithmic and power corrections for collider physics | Eric Ludovicus Maria Petrus Laenen | Thu Mar  2 16:00:00 2023\n",
            "Index theorems, Generalized Hall current for topological insulators and superconductors | Srimoyee Sen | Thu Feb 23 16:00:00 2023\n",
            "UV/IR Mixing, EFTs, Hidden Cancellations, and Origami:    Calculating the Higgs Mass and Gauge-Coupling Running in String Theory | Steven Adam Abel | Thu Feb 16 16:00:00 2023\n",
            "Off Shell String Theory | Aron C. Wall | Tue Feb 14 13:00:00 2023\n",
            "POSTPONED to 25th May | David J.E. Marsh | Thu Feb  9 16:00:00 2023\n",
            "A dress of flavour to suit any jet | Alexander Yohei Huss | Thu Feb  2 16:00:00 2023\n",
            "The Secret Life of Primordial Black Holes | James A. Unwin | Thu Jan 26 16:00:00 2023\n",
            "Direct Detection of Light Dark Matter | Clara Murgui | Thu Jan 19 16:00:00 2023\n",
            "Random Matrix Spectroscopy and Quantum Gravity | Clifford Victor Johnson | Thu Jan 12 16:42:00 2023\n",
            "The extent of anisotropy of our Universe | Roya Mohayaee | Thu Dec  1 14:30:00 2022\n",
            "Evidence and implications of intrinsic charm in the proton | Juan Rojo | Thu Nov 24 16:00:00 2022\n",
            "The tameness of quantum field theory | Thomas W. Grimm | Thu Nov 17 16:00:00 2022\n",
            "The old and the new muon g-2 puzzle | Antonio Masiero | Thu Nov 10 16:00:00 2022\n",
            "Decoupling of heavy quarks as a tool to determine the strong coupling | Alberto Ramos | Thu Nov  3 16:00:00 2022\n",
            "Faces in the Forest: Feynman Integrals and the Method of Regions | Stephen Philip Jones | Thu Oct 27 15:00:00 2022\n"
          ]
        }
      ],
      "source": [
        "for seminar in seminar_list:\n",
        "    print(str(seminar))"
      ]
    },
    {
      "cell_type": "markdown",
      "source": [
        "Create an user \"Andrei\" which preferred arXiv categories and keywords"
      ],
      "metadata": {
        "id": "tNi8MVfLRxfF"
      }
    },
    {
      "cell_type": "code",
      "execution_count": null,
      "metadata": {
        "id": "kbZEdiKKLes5",
        "colab": {
          "base_uri": "https://localhost:8080/"
        },
        "outputId": "f0be8e26-ba22-4478-f1ea-87728614583b"
      },
      "outputs": [
        {
          "output_type": "stream",
          "name": "stdout",
          "text": [
            "User = Andrei Constantin ||| Categories: hep-ph | hep-th | ||| Keywords: string | phenomenology | topological | \n"
          ]
        }
      ],
      "source": [
        "andrei = EndUser('Andrei Constantin', 0, ['hep-th', 'hep-ph'], ['hep-th', 'hep-ph'])\n",
        "#andrei.addKeywords(\"string\")\n",
        "andrei.addMultipleKeywords([\"string\", \"phenomenology\", \"topological\"])\n",
        "#andrei.printKeywords()\n",
        "print(andrei)"
      ]
    },
    {
      "cell_type": "markdown",
      "source": [
        "Score the entire seminar list for a user using pre-defined weights and output"
      ],
      "metadata": {
        "id": "NbqtuPbjzAJ7"
      }
    },
    {
      "cell_type": "code",
      "execution_count": null,
      "metadata": {
        "id": "yzlJQEBrLes6"
      },
      "outputs": [],
      "source": [
        "def scoreSeminarsForUser(randomUser):\n",
        "    recommendationList = np.zeros((len(seminar_list), 2))\n",
        "    for i in range(len(seminar_list)):\n",
        "        testSeminar = seminar_list[i]\n",
        "        recommendationList[i, 0] = testSeminar.id\n",
        "        recommendationList[i, 1] = round(testSeminar.evaluateUser(randomUser), 2)\n",
        "\n",
        "    #recommendationList.sort(key = lambda x:x[1], reverse = True)\n",
        "    sortIndices = np.flip(np.argsort(recommendationList[:, 1], axis=None))\n",
        "    recommendationList[:, :] = recommendationList[sortIndices, :]\n",
        "    return recommendationList\n",
        "\n",
        "def printReccommendationList(randomUser, reccList):\n",
        "    print(\"Recommendations for \" + str(randomUser.name))\n",
        "    print(\"Score \\t || \\t Seminar \")\n",
        "    for i in range(len(reccList)):\n",
        "        print(str(reccList[i, 1]) + \" \\t || \\t \"+str(seminar_list[int(reccList[i, 0])]) )\n",
        "    print(\"_________________________________________________\")\n"
      ]
    },
    {
      "cell_type": "code",
      "execution_count": null,
      "metadata": {
        "colab": {
          "base_uri": "https://localhost:8080/"
        },
        "id": "JhInTyMcLes7",
        "outputId": "a2c20854-c8cb-4e2f-9e6e-2f44f4dd04e7"
      },
      "outputs": [
        {
          "output_type": "stream",
          "name": "stdout",
          "text": [
            "astro-ph not found in list\n",
            "14H40 (Primary) 14K30, 14H20 (Secondary) not found in list\n",
            "34C07, 34C25, 16T05, 16T30 not found in list\n",
            "13F60, 20F36 (Primary) 16G20 (Secondary) not found in list\n",
            "31C05, 60G50, 60J10, 82C24, 28A80 not found in list\n",
            "astro-ph not found in list\n",
            "cond-mat not found in list\n",
            "53C25, 53D35, 57R17, 14J25 not found in list\n",
            "53C25, 53D35, 57R17 not found in list\n",
            "53D05, 57R17, 57R18 not found in list\n",
            "astro-ph not found in list\n",
            "astro-ph not found in list\n",
            "astro-ph not found in list\n"
          ]
        }
      ],
      "source": [
        "recListAndrei = scoreSeminarsForUser(andrei)\n",
        "#recListAndrei"
      ]
    },
    {
      "cell_type": "code",
      "execution_count": null,
      "metadata": {
        "colab": {
          "base_uri": "https://localhost:8080/"
        },
        "id": "abou8ppjLes7",
        "outputId": "50aa91c7-255e-4fd7-cf5b-3b5aef75ba14"
      },
      "outputs": [
        {
          "output_type": "stream",
          "name": "stdout",
          "text": [
            "Recommendations for Andrei Constantin\n",
            "Score \t || \t Seminar \n",
            "30.0 \t || \t UV/IR Mixing, EFTs, Hidden Cancellations, and Origami:    Calculating the Higgs Mass and Gauge-Coupling Running in String Theory | Steven Adam Abel | Thu Feb 16 16:00:00 2023\n",
            "11.6 \t || \t Topological Aspects of String Phenomenology | Jonathan J. Heckman | Thu May 25 15:00:00 2023\n",
            "8.92 \t || \t The tameness of quantum field theory | Thomas W. Grimm | Thu Nov 17 16:00:00 2022\n",
            "7.96 \t || \t The extent of anisotropy of our Universe | Roya Mohayaee | Thu Dec  1 14:30:00 2022\n",
            "7.67 \t || \t POSTPONED to 25th May | David J.E. Marsh | Thu Feb  9 16:00:00 2023\n",
            "4.93 \t || \t Index theorems, Generalized Hall current for topological insulators and superconductors | Srimoyee Sen | Thu Feb 23 16:00:00 2023\n",
            "3.96 \t || \t Hadronic vacuum-polarisation of the photon: lattice SM predictions, experimental data and the muon g-2 puzzle | Roberto Frezzotti | Thu Mar  9 16:00:00 2023\n",
            "3.82 \t || \t Effective field theory for cosmological phase transitions | Oliver Gould | Thu May  4 15:00:00 2023\n",
            "3.46 \t || \t Direct Detection of Light Dark Matter | Clara Murgui | Thu Jan 19 16:00:00 2023\n",
            "3.46 \t || \t Decoupling of heavy quarks as a tool to determine the strong coupling | Alberto Ramos | Thu Nov  3 16:00:00 2022\n",
            "3.46 \t || \t Logarithmic and power corrections for collider physics | Eric Ludovicus Maria Petrus Laenen | Thu Mar  2 16:00:00 2023\n",
            "3.0 \t || \t Off Shell String Theory | Aron C. Wall | Tue Feb 14 13:00:00 2023\n",
            "2.75 \t || \t The Secret Life of Primordial Black Holes | James A. Unwin | Thu Jan 26 16:00:00 2023\n",
            "2.24 \t || \t High Energy Resummation for Jet Processes at the LHC | Jennifer M. Smillie | Thu Jun  8 15:00:00 2023\n",
            "2.24 \t || \t Fits of alpha_s using power corrections in the 3-jet region | Giulia Zanderighi | Thu May 18 15:00:00 2023\n",
            "2.19 \t || \t Faces in the Forest: Feynman Integrals and the Method of Regions | Stephen Philip Jones | Thu Oct 27 15:00:00 2022\n",
            "2.09 \t || \t The old and the new muon g-2 puzzle | Antonio Masiero | Thu Nov 10 16:00:00 2022\n",
            "2.04 \t || \t Chaotic spin-chains in AdS/CFT | Anne Spiering | Thu Apr 20 15:00:00 2023\n",
            "2.04 \t || \t Random Matrix Spectroscopy and Quantum Gravity | Clifford Victor Johnson | Thu Jan 12 16:42:00 2023\n",
            "2.04 \t || \t Evidence and implications of intrinsic charm in the proton | Juan Rojo | Thu Nov 24 16:00:00 2022\n",
            "2.0 \t || \t A dress of flavour to suit any jet | Alexander Yohei Huss | Thu Feb  2 16:00:00 2023\n",
            "2.0 \t || \t Precision LHC predictions for top and dark matter | Jonas M. Lindert | Thu May 11 15:00:00 2023\n",
            "2.0 \t || \t Kaon Decays as a Probe for New Physics | Stefan Schacht | Thu Jun 15 15:00:00 2023\n",
            "1.52 \t || \t Extended Path Intensity Correlation | Ken Van Tilburg | Thu Jun  1 15:00:00 2023\n",
            "0.0 \t || \t Dark Energy with a little help from its friends | S.L. Parameswaran | Thu Apr 27 15:00:00 2023\n",
            "_________________________________________________\n"
          ]
        }
      ],
      "source": [
        "printReccommendationList(andrei, recListAndrei)"
      ]
    },
    {
      "cell_type": "markdown",
      "source": [
        "Creating a new user \"Liam\" and showing that feedback on seminars changes recommendation score"
      ],
      "metadata": {
        "id": "jgLIRp7pUfd_"
      }
    },
    {
      "cell_type": "code",
      "execution_count": null,
      "metadata": {
        "id": "o2CIkLpzPRCG",
        "colab": {
          "base_uri": "https://localhost:8080/"
        },
        "outputId": "994e3a40-c19e-4d2a-c52a-815d79c7f976"
      },
      "outputs": [
        {
          "output_type": "stream",
          "name": "stdout",
          "text": [
            "User = Liam Ruske ||| Categories: cond-mat | ||| Keywords: \n"
          ]
        }
      ],
      "source": [
        "liam = EndUser('Liam Ruske', 0, 'cond-mat', ['cond-mat.soft', 'cond-mat.stat-mech'])\n",
        "print(liam)"
      ]
    },
    {
      "cell_type": "code",
      "execution_count": null,
      "metadata": {
        "id": "Piq16KXTpFuY",
        "colab": {
          "base_uri": "https://localhost:8080/"
        },
        "outputId": "a17259c6-490b-4630-a96e-1ff10c51eefc"
      },
      "outputs": [
        {
          "output_type": "stream",
          "name": "stdout",
          "text": [
            "Connection found at depth = 1 through Julia Yeomans\n"
          ]
        },
        {
          "output_type": "execute_result",
          "data": {
            "text/plain": [
              "7.997527376843365"
            ]
          },
          "metadata": {},
          "execution_count": 31
        }
      ],
      "source": [
        "liam.evaluateAuthor('Julia Yeomans')"
      ]
    },
    {
      "cell_type": "code",
      "execution_count": null,
      "metadata": {
        "id": "3q2Dmjdy7YdJ",
        "colab": {
          "base_uri": "https://localhost:8080/"
        },
        "outputId": "143a94b6-ed3d-46a6-d1ba-2dd5e747ef72"
      },
      "outputs": [
        {
          "output_type": "stream",
          "name": "stdout",
          "text": [
            "Connection found at depth = 1 through Julia Yeomans\n"
          ]
        },
        {
          "output_type": "execute_result",
          "data": {
            "text/plain": [
              "10.198166273987894"
            ]
          },
          "metadata": {},
          "execution_count": 32
        }
      ],
      "source": [
        "liam.updatePrefs('Julia Yeomans',5)\n",
        "liam.evaluateAuthor('Julia Yeomans')"
      ]
    },
    {
      "cell_type": "code",
      "source": [
        "liam.updatePrefs('Julia Yeomans',1)\n",
        "liam.updatePrefs('Julia Yeomans',1)\n",
        "liam.updatePrefs('Julia Yeomans',1)\n",
        "liam.updatePrefs('Julia Yeomans',1)\n",
        "liam.evaluateAuthor('Julia Yeomans')"
      ],
      "metadata": {
        "colab": {
          "base_uri": "https://localhost:8080/"
        },
        "id": "7LHYs30yU91n",
        "outputId": "afcc4ff2-88ab-456f-9be2-7ecfedb30f3c"
      },
      "execution_count": null,
      "outputs": [
        {
          "output_type": "stream",
          "name": "stdout",
          "text": [
            "Connection found at depth = 1 through Julia Yeomans\n"
          ]
        },
        {
          "output_type": "execute_result",
          "data": {
            "text/plain": [
              "6.125123023238223"
            ]
          },
          "metadata": {},
          "execution_count": 33
        }
      ]
    },
    {
      "cell_type": "markdown",
      "source": [
        "And showing that the whole INSPIRE list would get quite low scores for Liam, whereas it gets filtered for Andrei"
      ],
      "metadata": {
        "id": "3GDKHVaJzg5I"
      }
    },
    {
      "cell_type": "code",
      "source": [
        "recListLiam = scoreSeminarsForUser(liam)"
      ],
      "metadata": {
        "colab": {
          "base_uri": "https://localhost:8080/"
        },
        "id": "Ds33RA-VV4kn",
        "outputId": "987e6a7c-91c8-4161-b377-0a3d14f9677b"
      },
      "execution_count": null,
      "outputs": [
        {
          "output_type": "stream",
          "name": "stdout",
          "text": [
            "astro-ph not found in list\n",
            "14H40 (Primary) 14K30, 14H20 (Secondary) not found in list\n",
            "34C07, 34C25, 16T05, 16T30 not found in list\n",
            "13F60, 20F36 (Primary) 16G20 (Secondary) not found in list\n",
            "31C05, 60G50, 60J10, 82C24, 28A80 not found in list\n",
            "astro-ph not found in list\n",
            "cond-mat not found in list\n",
            "53C25, 53D35, 57R17, 14J25 not found in list\n",
            "53C25, 53D35, 57R17 not found in list\n",
            "53D05, 57R17, 57R18 not found in list\n",
            "astro-ph not found in list\n",
            "astro-ph not found in list\n",
            "astro-ph not found in list\n"
          ]
        }
      ]
    },
    {
      "cell_type": "code",
      "source": [
        "printReccommendationList(liam, recListLiam)"
      ],
      "metadata": {
        "colab": {
          "base_uri": "https://localhost:8080/"
        },
        "id": "UEccRIQXouXi",
        "outputId": "ef8b0b27-0f4f-4b34-f7e9-07e8bb29bf98"
      },
      "execution_count": null,
      "outputs": [
        {
          "output_type": "stream",
          "name": "stdout",
          "text": [
            "Recommendations for Liam Ruske\n",
            "Score \t || \t Seminar \n",
            "0.41 \t || \t Index theorems, Generalized Hall current for topological insulators and superconductors | Srimoyee Sen | Thu Feb 23 16:00:00 2023\n",
            "0.33 \t || \t Topological Aspects of String Phenomenology | Jonathan J. Heckman | Thu May 25 15:00:00 2023\n",
            "0.26 \t || \t Faces in the Forest: Feynman Integrals and the Method of Regions | Stephen Philip Jones | Thu Oct 27 15:00:00 2022\n",
            "0.05 \t || \t The tameness of quantum field theory | Thomas W. Grimm | Thu Nov 17 16:00:00 2022\n",
            "0.04 \t || \t The extent of anisotropy of our Universe | Roya Mohayaee | Thu Dec  1 14:30:00 2022\n",
            "0.04 \t || \t Random Matrix Spectroscopy and Quantum Gravity | Clifford Victor Johnson | Thu Jan 12 16:42:00 2023\n",
            "0.03 \t || \t Effective field theory for cosmological phase transitions | Oliver Gould | Thu May  4 15:00:00 2023\n",
            "0.02 \t || \t Evidence and implications of intrinsic charm in the proton | Juan Rojo | Thu Nov 24 16:00:00 2022\n",
            "0.01 \t || \t High Energy Resummation for Jet Processes at the LHC | Jennifer M. Smillie | Thu Jun  8 15:00:00 2023\n",
            "0.01 \t || \t Off Shell String Theory | Aron C. Wall | Tue Feb 14 13:00:00 2023\n",
            "-0.0 \t || \t Chaotic spin-chains in AdS/CFT | Anne Spiering | Thu Apr 20 15:00:00 2023\n",
            "0.0 \t || \t Fits of alpha_s using power corrections in the 3-jet region | Giulia Zanderighi | Thu May 18 15:00:00 2023\n",
            "0.0 \t || \t Precision LHC predictions for top and dark matter | Jonas M. Lindert | Thu May 11 15:00:00 2023\n",
            "0.0 \t || \t Dark Energy with a little help from its friends | S.L. Parameswaran | Thu Apr 27 15:00:00 2023\n",
            "0.0 \t || \t Kaon Decays as a Probe for New Physics | Stefan Schacht | Thu Jun 15 15:00:00 2023\n",
            "0.0 \t || \t Logarithmic and power corrections for collider physics | Eric Ludovicus Maria Petrus Laenen | Thu Mar  2 16:00:00 2023\n",
            "0.0 \t || \t The old and the new muon g-2 puzzle | Antonio Masiero | Thu Nov 10 16:00:00 2022\n",
            "-0.01 \t || \t Hadronic vacuum-polarisation of the photon: lattice SM predictions, experimental data and the muon g-2 puzzle | Roberto Frezzotti | Thu Mar  9 16:00:00 2023\n",
            "-0.01 \t || \t Decoupling of heavy quarks as a tool to determine the strong coupling | Alberto Ramos | Thu Nov  3 16:00:00 2022\n",
            "-0.01 \t || \t POSTPONED to 25th May | David J.E. Marsh | Thu Feb  9 16:00:00 2023\n",
            "-0.01 \t || \t Direct Detection of Light Dark Matter | Clara Murgui | Thu Jan 19 16:00:00 2023\n",
            "-0.09 \t || \t UV/IR Mixing, EFTs, Hidden Cancellations, and Origami:    Calculating the Higgs Mass and Gauge-Coupling Running in String Theory | Steven Adam Abel | Thu Feb 16 16:00:00 2023\n",
            "-0.15 \t || \t Extended Path Intensity Correlation | Ken Van Tilburg | Thu Jun  1 15:00:00 2023\n",
            "-0.17 \t || \t The Secret Life of Primordial Black Holes | James A. Unwin | Thu Jan 26 16:00:00 2023\n",
            "-0.7 \t || \t A dress of flavour to suit any jet | Alexander Yohei Huss | Thu Feb  2 16:00:00 2023\n",
            "_________________________________________________\n"
          ]
        }
      ]
    },
    {
      "cell_type": "markdown",
      "source": [
        "And the effect of adding a keyword is demonstrated here"
      ],
      "metadata": {
        "id": "CuAjZkC6pCCe"
      }
    },
    {
      "cell_type": "code",
      "source": [
        "liam.addKeywords(\"string\")\n",
        "recListLiam = scoreSeminarsForUser(liam)\n",
        "printReccommendationList(liam, recListLiam)"
      ],
      "metadata": {
        "colab": {
          "base_uri": "https://localhost:8080/"
        },
        "id": "hzWdkTUSpCc8",
        "outputId": "da131281-3e24-42c0-cfba-d5212e4a9e30"
      },
      "execution_count": null,
      "outputs": [
        {
          "output_type": "stream",
          "name": "stdout",
          "text": [
            "astro-ph not found in list\n",
            "14H40 (Primary) 14K30, 14H20 (Secondary) not found in list\n",
            "34C07, 34C25, 16T05, 16T30 not found in list\n",
            "13F60, 20F36 (Primary) 16G20 (Secondary) not found in list\n",
            "31C05, 60G50, 60J10, 82C24, 28A80 not found in list\n",
            "astro-ph not found in list\n",
            "cond-mat not found in list\n",
            "53C25, 53D35, 57R17, 14J25 not found in list\n",
            "53C25, 53D35, 57R17 not found in list\n",
            "53D05, 57R17, 57R18 not found in list\n",
            "astro-ph not found in list\n",
            "astro-ph not found in list\n",
            "astro-ph not found in list\n",
            "Recommendations for Liam Ruske\n",
            "Score \t || \t Seminar \n",
            "1.33 \t || \t Topological Aspects of String Phenomenology | Jonathan J. Heckman | Thu May 25 15:00:00 2023\n",
            "1.01 \t || \t Off Shell String Theory | Aron C. Wall | Tue Feb 14 13:00:00 2023\n",
            "0.91 \t || \t UV/IR Mixing, EFTs, Hidden Cancellations, and Origami:    Calculating the Higgs Mass and Gauge-Coupling Running in String Theory | Steven Adam Abel | Thu Feb 16 16:00:00 2023\n",
            "0.41 \t || \t Index theorems, Generalized Hall current for topological insulators and superconductors | Srimoyee Sen | Thu Feb 23 16:00:00 2023\n",
            "0.26 \t || \t Faces in the Forest: Feynman Integrals and the Method of Regions | Stephen Philip Jones | Thu Oct 27 15:00:00 2022\n",
            "0.05 \t || \t The tameness of quantum field theory | Thomas W. Grimm | Thu Nov 17 16:00:00 2022\n",
            "0.04 \t || \t The extent of anisotropy of our Universe | Roya Mohayaee | Thu Dec  1 14:30:00 2022\n",
            "0.04 \t || \t Random Matrix Spectroscopy and Quantum Gravity | Clifford Victor Johnson | Thu Jan 12 16:42:00 2023\n",
            "0.03 \t || \t Effective field theory for cosmological phase transitions | Oliver Gould | Thu May  4 15:00:00 2023\n",
            "0.02 \t || \t Evidence and implications of intrinsic charm in the proton | Juan Rojo | Thu Nov 24 16:00:00 2022\n",
            "0.01 \t || \t High Energy Resummation for Jet Processes at the LHC | Jennifer M. Smillie | Thu Jun  8 15:00:00 2023\n",
            "-0.0 \t || \t Chaotic spin-chains in AdS/CFT | Anne Spiering | Thu Apr 20 15:00:00 2023\n",
            "0.0 \t || \t The old and the new muon g-2 puzzle | Antonio Masiero | Thu Nov 10 16:00:00 2022\n",
            "0.0 \t || \t Fits of alpha_s using power corrections in the 3-jet region | Giulia Zanderighi | Thu May 18 15:00:00 2023\n",
            "0.0 \t || \t Precision LHC predictions for top and dark matter | Jonas M. Lindert | Thu May 11 15:00:00 2023\n",
            "0.0 \t || \t Dark Energy with a little help from its friends | S.L. Parameswaran | Thu Apr 27 15:00:00 2023\n",
            "0.0 \t || \t Kaon Decays as a Probe for New Physics | Stefan Schacht | Thu Jun 15 15:00:00 2023\n",
            "0.0 \t || \t Logarithmic and power corrections for collider physics | Eric Ludovicus Maria Petrus Laenen | Thu Mar  2 16:00:00 2023\n",
            "-0.01 \t || \t Decoupling of heavy quarks as a tool to determine the strong coupling | Alberto Ramos | Thu Nov  3 16:00:00 2022\n",
            "-0.01 \t || \t POSTPONED to 25th May | David J.E. Marsh | Thu Feb  9 16:00:00 2023\n",
            "-0.01 \t || \t Direct Detection of Light Dark Matter | Clara Murgui | Thu Jan 19 16:00:00 2023\n",
            "-0.01 \t || \t Hadronic vacuum-polarisation of the photon: lattice SM predictions, experimental data and the muon g-2 puzzle | Roberto Frezzotti | Thu Mar  9 16:00:00 2023\n",
            "-0.15 \t || \t Extended Path Intensity Correlation | Ken Van Tilburg | Thu Jun  1 15:00:00 2023\n",
            "-0.17 \t || \t The Secret Life of Primordial Black Holes | James A. Unwin | Thu Jan 26 16:00:00 2023\n",
            "-0.7 \t || \t A dress of flavour to suit any jet | Alexander Yohei Huss | Thu Feb  2 16:00:00 2023\n",
            "_________________________________________________\n"
          ]
        }
      ]
    },
    {
      "cell_type": "markdown",
      "metadata": {
        "id": "9Ho_NZicDs4n"
      },
      "source": [
        "### TESTING SECTIONS THROWN HERE"
      ]
    },
    {
      "cell_type": "code",
      "execution_count": null,
      "metadata": {
        "colab": {
          "base_uri": "https://localhost:8080/"
        },
        "id": "2_AvR8USF8Jb",
        "outputId": "04303e19-76e9-46fd-e910-13c3202d91f0"
      },
      "outputs": [
        {
          "data": {
            "text/plain": [
              "[('hep-th', 35),\n",
              " ('math.AG', 11),\n",
              " ('cs.AI', 2),\n",
              " ('math.AP', 2),\n",
              " ('35Q35', 2),\n",
              " ('hep-ph', 2)]"
            ]
          },
          "execution_count": 115,
          "metadata": {},
          "output_type": "execute_result"
        }
      ],
      "source": [
        "bs_content = find_person('Andrei', 'Constantin', 100)\n",
        "find_titles(bs_content).most_common(6)"
      ]
    },
    {
      "cell_type": "code",
      "execution_count": null,
      "metadata": {
        "colab": {
          "base_uri": "https://localhost:8080/"
        },
        "id": "Y2-7E9tbUicI",
        "outputId": "3fd0b8f0-53e1-4f1e-c19d-2bdbae32340b"
      },
      "outputs": [
        {
          "data": {
            "text/plain": [
              "[('Andrei Constantin', 35),\n",
              " ('Andre Lukas', 26),\n",
              " ('Callum Brodie', 9),\n",
              " ('Philip Candelas', 6),\n",
              " ('Evgeny Buchbinder', 6),\n",
              " ('Thomas Harvey', 6),\n",
              " ('James Gray', 4),\n",
              " ('Fabian Ruehle', 4),\n",
              " ('Rehan Deen', 3),\n",
              " ('Steven Abel', 3)]"
            ]
          },
          "execution_count": 116,
          "metadata": {},
          "output_type": "execute_result"
        }
      ],
      "source": [
        "coauthors = find_coauthors(bs_content)\n",
        "coauthors.most_common(10)"
      ]
    },
    {
      "cell_type": "code",
      "execution_count": null,
      "metadata": {
        "colab": {
          "base_uri": "https://localhost:8080/"
        },
        "id": "V9pJEqfOUPBw",
        "outputId": "2c1feeb1-150e-4743-ac5e-10af9a2c94ee"
      },
      "outputs": [
        {
          "data": {
            "text/plain": [
              "[('cond-mat.soft', 89),\n",
              " ('physics.flu-dyn', 35),\n",
              " ('physics.bio-ph', 34),\n",
              " ('cond-mat.stat-mech', 11),\n",
              " ('cond-mat.mtrl-sci', 3),\n",
              " ('cond-mat.mes-hall', 2)]"
            ]
          },
          "execution_count": 117,
          "metadata": {},
          "output_type": "execute_result"
        }
      ],
      "source": [
        "Fname, Lname = firstlastname('Julia Yeomans')\n",
        "bs_content = find_person(Fname, Lname, 100)\n",
        "find_titles(bs_content).most_common(6)"
      ]
    },
    {
      "cell_type": "markdown",
      "metadata": {
        "id": "1uTlzoChbeFE"
      },
      "source": [
        "For the recommender system, we could write some code which might convert the above values to a value between 0 to 1 for the recommender. Not a good idea to use a percentage, maybe a tanh like function that saturates for n>=10, and rescales everything so that the largest number is 1 at the end?"
      ]
    },
    {
      "cell_type": "code",
      "execution_count": null,
      "metadata": {
        "id": "GMM-YF0MEv9w",
        "scrolled": false
      },
      "outputs": [],
      "source": [
        "#bs_content"
      ]
    },
    {
      "cell_type": "code",
      "execution_count": null,
      "metadata": {
        "id": "D7eHU1ttgZRc"
      },
      "outputs": [],
      "source": [
        "lookForConnection('Prateek Sarkar', 'Claire Gwenlan', 3)"
      ]
    },
    {
      "cell_type": "code",
      "execution_count": null,
      "metadata": {
        "id": "Xs4blSy3H8Zg"
      },
      "outputs": [],
      "source": [
        "#to show the contents of extracted file, uncomment below\n",
        "#print(PTfile)"
      ]
    },
    {
      "cell_type": "code",
      "execution_count": null,
      "metadata": {
        "id": "05D_p0DWIXgm"
      },
      "outputs": [],
      "source": [
        "#for speaker in PTfile['hits']['hits']:\n",
        "#  print(speaker['metadata']['speakers'][0]['name'])\n",
        "\n",
        "#PTfile['hits']['hits'][0]['metadata']['speakers'][0]['name']"
      ]
    },
    {
      "cell_type": "code",
      "execution_count": null,
      "metadata": {
        "id": "H9xdwgiX3bfd"
      },
      "outputs": [],
      "source": [
        "#sd = PTfile['hits']['hits'][0]['metadata']\n",
        "#sd"
      ]
    },
    {
      "cell_type": "code",
      "execution_count": null,
      "metadata": {
        "id": "3m5-5S1ly1VE"
      },
      "outputs": [],
      "source": [
        "#start and end indices for each category, seems unnecessary now\n",
        "print(sub_cats)\n",
        "\n",
        "print(cat_start_idx)\n",
        "print(cat_end_idx)"
      ]
    },
    {
      "cell_type": "code",
      "execution_count": null,
      "metadata": {
        "id": "i2I05RE_y36Y"
      },
      "outputs": [],
      "source": [
        "print(liam)"
      ]
    },
    {
      "cell_type": "code",
      "execution_count": null,
      "metadata": {
        "id": "ZvzrDpNSI0s8"
      },
      "outputs": [],
      "source": [
        "sdddd = datetime.datetime.fromisoformat(sd['start_datetime'])\n",
        "sdddd.strftime('%c')"
      ]
    },
    {
      "cell_type": "code",
      "execution_count": null,
      "metadata": {
        "id": "B8rFYW_-t-OL"
      },
      "outputs": [],
      "source": [
        "liam.evaluateAuthor('Andrei Constantin')"
      ]
    },
    {
      "cell_type": "code",
      "execution_count": null,
      "metadata": {
        "id": "rRpRjoGUxVS_"
      },
      "outputs": [],
      "source": [
        "liam.name"
      ]
    },
    {
      "cell_type": "code",
      "execution_count": null,
      "metadata": {
        "id": "ZsGcPd9V5u4C"
      },
      "outputs": [],
      "source": [
        "strName = \"Sen, Srimoyee\"\n",
        "commaIndex = strName.find(',')\n",
        "lastName = strName[0:commaIndex]\n",
        "firstName = strName[commaIndex+2:]\n",
        "authorName = firstName + ' ' + lastName\n"
      ]
    },
    {
      "cell_type": "code",
      "execution_count": null,
      "metadata": {
        "id": "jdRnMedrDs4u"
      },
      "outputs": [],
      "source": [
        "seminar_test = Seminar(\"HelloWorld\", 1, \"Saraswat Bhattacharyya\")"
      ]
    },
    {
      "cell_type": "code",
      "execution_count": null,
      "metadata": {
        "id": "CIbdjcNTDs4v"
      },
      "outputs": [],
      "source": [
        "seminar_test.cat_lists"
      ]
    },
    {
      "cell_type": "code",
      "execution_count": null,
      "metadata": {
        "id": "-qQhbibpDs4v"
      },
      "outputs": [],
      "source": [
        "seminar_test.evaluateUser(liam)"
      ]
    },
    {
      "cell_type": "code",
      "execution_count": null,
      "metadata": {
        "id": "FJ6DDUvsDs4v"
      },
      "outputs": [],
      "source": [
        "liam.calcCatScore_seminar(seminar_test)"
      ]
    },
    {
      "cell_type": "code",
      "execution_count": null,
      "metadata": {
        "id": "UH8XEjA-Ds4w"
      },
      "outputs": [],
      "source": []
    },
    {
      "cell_type": "markdown",
      "metadata": {
        "id": "074Kc30BaJH0"
      },
      "source": [
        "The idea is as follows:\n",
        "\n",
        "\n",
        "1.   Count keywords from all the different Arxiv categories. Keep in adjacency matrix\n",
        "2.   Use dimensionality reduction to reduce number of features for easier training\n",
        "3.   Count the value of dimension-reduced keywords in the abstract of the talk. This is the parameter value for the recommender system.\n",
        "4.   Figure out a way to allow this thing to update with time (eventually)\n",
        "\n"
      ]
    },
    {
      "cell_type": "code",
      "execution_count": null,
      "metadata": {
        "colab": {
          "base_uri": "https://localhost:8080/"
        },
        "id": "KCv40AmJLes6",
        "outputId": "72a7f872-9ac1-47ce-b41f-22cf333f8ccf"
      },
      "outputs": [
        {
          "name": "stdout",
          "output_type": "stream",
          "text": [
            "astro-ph not found in list\n",
            "14H40 (Primary) 14K30, 14H20 (Secondary) not found in list\n",
            "34C07, 34C25, 16T05, 16T30 not found in list\n",
            "13F60, 20F36 (Primary) 16G20 (Secondary) not found in list\n",
            "31C05, 60G50, 60J10, 82C24, 28A80 not found in list\n",
            "astro-ph not found in list\n",
            "cond-mat not found in list\n",
            "53C25, 53D35, 57R17, 14J25 not found in list\n",
            "53C25, 53D35, 57R17 not found in list\n",
            "53D05, 57R17, 57R18 not found in list\n",
            "astro-ph not found in list\n",
            "astro-ph not found in list\n",
            "astro-ph not found in list\n"
          ]
        }
      ],
      "source": [
        "temp_score_list = []\n",
        "#print(\"Speaker Name | Full-category score | Sub-category score | Co-author score | Keyword score | Total score\")\n",
        "for seminar in seminar_list:\n",
        "    temp_score = seminar.evaluateUser(andrei, debug=0)\n",
        "    temp_score_list.append(temp_score)\n",
        "    #print(str(seminar) + \"  || SCORE - \" + str(temp_score))\n",
        "\n",
        "scored_seminar_list = seminar_list + temp_score_list\n",
        "#for seminar in scored_seminar_list:\n",
        "#    print(seminar)"
      ]
    },
    {
      "cell_type": "markdown",
      "metadata": {
        "id": "SD2iLOrXvBma"
      },
      "source": [
        "### JUNK THROWN HERE"
      ]
    },
    {
      "cell_type": "markdown",
      "metadata": {
        "id": "Y7zjj-MKnMve"
      },
      "source": [
        "#### OX PHYSICS"
      ]
    },
    {
      "cell_type": "code",
      "execution_count": null,
      "metadata": {
        "colab": {
          "base_uri": "https://localhost:8080/"
        },
        "id": "DcfgVALUnMHV",
        "outputId": "b74c57f0-4f12-4605-b01a-3239265fc85c"
      },
      "outputs": [
        {
          "name": "stdout",
          "output_type": "stream",
          "text": [
            "https://web01-dev.physics.ox.ac.uk/api/all-events/v1?page=1\n"
          ]
        }
      ],
      "source": [
        " urlstub = \"https://web01-dev.physics.ox.ac.uk/api/all-events/v1?page=\"\n",
        " page1_url = urlstub+\"1\"\n",
        " print(page1_url)"
      ]
    },
    {
      "cell_type": "code",
      "execution_count": null,
      "metadata": {
        "colab": {
          "background_save": true
        },
        "id": "COesDhUSnnku",
        "outputId": "8b1a83db-3829-4207-b594-00d5f92cb7a8"
      },
      "outputs": [
        {
          "ename": "URLError",
          "evalue": "ignored",
          "output_type": "error",
          "traceback": [
            "\u001b[0;31m---------------------------------------------------------------------------\u001b[0m",
            "\u001b[0;31mTimeoutError\u001b[0m                              Traceback (most recent call last)",
            "\u001b[0;32m/usr/lib/python3.10/urllib/request.py\u001b[0m in \u001b[0;36mdo_open\u001b[0;34m(self, http_class, req, **http_conn_args)\u001b[0m\n\u001b[1;32m   1347\u001b[0m             \u001b[0;32mtry\u001b[0m\u001b[0;34m:\u001b[0m\u001b[0;34m\u001b[0m\u001b[0;34m\u001b[0m\u001b[0m\n\u001b[0;32m-> 1348\u001b[0;31m                 h.request(req.get_method(), req.selector, req.data, headers,\n\u001b[0m\u001b[1;32m   1349\u001b[0m                           encode_chunked=req.has_header('Transfer-encoding'))\n",
            "\u001b[0;32m/usr/lib/python3.10/http/client.py\u001b[0m in \u001b[0;36mrequest\u001b[0;34m(self, method, url, body, headers, encode_chunked)\u001b[0m\n\u001b[1;32m   1282\u001b[0m         \u001b[0;34m\"\"\"Send a complete request to the server.\"\"\"\u001b[0m\u001b[0;34m\u001b[0m\u001b[0;34m\u001b[0m\u001b[0m\n\u001b[0;32m-> 1283\u001b[0;31m         \u001b[0mself\u001b[0m\u001b[0;34m.\u001b[0m\u001b[0m_send_request\u001b[0m\u001b[0;34m(\u001b[0m\u001b[0mmethod\u001b[0m\u001b[0;34m,\u001b[0m \u001b[0murl\u001b[0m\u001b[0;34m,\u001b[0m \u001b[0mbody\u001b[0m\u001b[0;34m,\u001b[0m \u001b[0mheaders\u001b[0m\u001b[0;34m,\u001b[0m \u001b[0mencode_chunked\u001b[0m\u001b[0;34m)\u001b[0m\u001b[0;34m\u001b[0m\u001b[0;34m\u001b[0m\u001b[0m\n\u001b[0m\u001b[1;32m   1284\u001b[0m \u001b[0;34m\u001b[0m\u001b[0m\n",
            "\u001b[0;32m/usr/lib/python3.10/http/client.py\u001b[0m in \u001b[0;36m_send_request\u001b[0;34m(self, method, url, body, headers, encode_chunked)\u001b[0m\n\u001b[1;32m   1328\u001b[0m             \u001b[0mbody\u001b[0m \u001b[0;34m=\u001b[0m \u001b[0m_encode\u001b[0m\u001b[0;34m(\u001b[0m\u001b[0mbody\u001b[0m\u001b[0;34m,\u001b[0m \u001b[0;34m'body'\u001b[0m\u001b[0;34m)\u001b[0m\u001b[0;34m\u001b[0m\u001b[0;34m\u001b[0m\u001b[0m\n\u001b[0;32m-> 1329\u001b[0;31m         \u001b[0mself\u001b[0m\u001b[0;34m.\u001b[0m\u001b[0mendheaders\u001b[0m\u001b[0;34m(\u001b[0m\u001b[0mbody\u001b[0m\u001b[0;34m,\u001b[0m \u001b[0mencode_chunked\u001b[0m\u001b[0;34m=\u001b[0m\u001b[0mencode_chunked\u001b[0m\u001b[0;34m)\u001b[0m\u001b[0;34m\u001b[0m\u001b[0;34m\u001b[0m\u001b[0m\n\u001b[0m\u001b[1;32m   1330\u001b[0m \u001b[0;34m\u001b[0m\u001b[0m\n",
            "\u001b[0;32m/usr/lib/python3.10/http/client.py\u001b[0m in \u001b[0;36mendheaders\u001b[0;34m(self, message_body, encode_chunked)\u001b[0m\n\u001b[1;32m   1277\u001b[0m             \u001b[0;32mraise\u001b[0m \u001b[0mCannotSendHeader\u001b[0m\u001b[0;34m(\u001b[0m\u001b[0;34m)\u001b[0m\u001b[0;34m\u001b[0m\u001b[0;34m\u001b[0m\u001b[0m\n\u001b[0;32m-> 1278\u001b[0;31m         \u001b[0mself\u001b[0m\u001b[0;34m.\u001b[0m\u001b[0m_send_output\u001b[0m\u001b[0;34m(\u001b[0m\u001b[0mmessage_body\u001b[0m\u001b[0;34m,\u001b[0m \u001b[0mencode_chunked\u001b[0m\u001b[0;34m=\u001b[0m\u001b[0mencode_chunked\u001b[0m\u001b[0;34m)\u001b[0m\u001b[0;34m\u001b[0m\u001b[0;34m\u001b[0m\u001b[0m\n\u001b[0m\u001b[1;32m   1279\u001b[0m \u001b[0;34m\u001b[0m\u001b[0m\n",
            "\u001b[0;32m/usr/lib/python3.10/http/client.py\u001b[0m in \u001b[0;36m_send_output\u001b[0;34m(self, message_body, encode_chunked)\u001b[0m\n\u001b[1;32m   1037\u001b[0m         \u001b[0;32mdel\u001b[0m \u001b[0mself\u001b[0m\u001b[0;34m.\u001b[0m\u001b[0m_buffer\u001b[0m\u001b[0;34m[\u001b[0m\u001b[0;34m:\u001b[0m\u001b[0;34m]\u001b[0m\u001b[0;34m\u001b[0m\u001b[0;34m\u001b[0m\u001b[0m\n\u001b[0;32m-> 1038\u001b[0;31m         \u001b[0mself\u001b[0m\u001b[0;34m.\u001b[0m\u001b[0msend\u001b[0m\u001b[0;34m(\u001b[0m\u001b[0mmsg\u001b[0m\u001b[0;34m)\u001b[0m\u001b[0;34m\u001b[0m\u001b[0;34m\u001b[0m\u001b[0m\n\u001b[0m\u001b[1;32m   1039\u001b[0m \u001b[0;34m\u001b[0m\u001b[0m\n",
            "\u001b[0;32m/usr/lib/python3.10/http/client.py\u001b[0m in \u001b[0;36msend\u001b[0;34m(self, data)\u001b[0m\n\u001b[1;32m    975\u001b[0m             \u001b[0;32mif\u001b[0m \u001b[0mself\u001b[0m\u001b[0;34m.\u001b[0m\u001b[0mauto_open\u001b[0m\u001b[0;34m:\u001b[0m\u001b[0;34m\u001b[0m\u001b[0;34m\u001b[0m\u001b[0m\n\u001b[0;32m--> 976\u001b[0;31m                 \u001b[0mself\u001b[0m\u001b[0;34m.\u001b[0m\u001b[0mconnect\u001b[0m\u001b[0;34m(\u001b[0m\u001b[0;34m)\u001b[0m\u001b[0;34m\u001b[0m\u001b[0;34m\u001b[0m\u001b[0m\n\u001b[0m\u001b[1;32m    977\u001b[0m             \u001b[0;32melse\u001b[0m\u001b[0;34m:\u001b[0m\u001b[0;34m\u001b[0m\u001b[0;34m\u001b[0m\u001b[0m\n",
            "\u001b[0;32m/usr/lib/python3.10/http/client.py\u001b[0m in \u001b[0;36mconnect\u001b[0;34m(self)\u001b[0m\n\u001b[1;32m   1447\u001b[0m \u001b[0;34m\u001b[0m\u001b[0m\n\u001b[0;32m-> 1448\u001b[0;31m             \u001b[0msuper\u001b[0m\u001b[0;34m(\u001b[0m\u001b[0;34m)\u001b[0m\u001b[0;34m.\u001b[0m\u001b[0mconnect\u001b[0m\u001b[0;34m(\u001b[0m\u001b[0;34m)\u001b[0m\u001b[0;34m\u001b[0m\u001b[0;34m\u001b[0m\u001b[0m\n\u001b[0m\u001b[1;32m   1449\u001b[0m \u001b[0;34m\u001b[0m\u001b[0m\n",
            "\u001b[0;32m/usr/lib/python3.10/http/client.py\u001b[0m in \u001b[0;36mconnect\u001b[0;34m(self)\u001b[0m\n\u001b[1;32m    941\u001b[0m         \u001b[0msys\u001b[0m\u001b[0;34m.\u001b[0m\u001b[0maudit\u001b[0m\u001b[0;34m(\u001b[0m\u001b[0;34m\"http.client.connect\"\u001b[0m\u001b[0;34m,\u001b[0m \u001b[0mself\u001b[0m\u001b[0;34m,\u001b[0m \u001b[0mself\u001b[0m\u001b[0;34m.\u001b[0m\u001b[0mhost\u001b[0m\u001b[0;34m,\u001b[0m \u001b[0mself\u001b[0m\u001b[0;34m.\u001b[0m\u001b[0mport\u001b[0m\u001b[0;34m)\u001b[0m\u001b[0;34m\u001b[0m\u001b[0;34m\u001b[0m\u001b[0m\n\u001b[0;32m--> 942\u001b[0;31m         self.sock = self._create_connection(\n\u001b[0m\u001b[1;32m    943\u001b[0m             (self.host,self.port), self.timeout, self.source_address)\n",
            "\u001b[0;32m/usr/lib/python3.10/socket.py\u001b[0m in \u001b[0;36mcreate_connection\u001b[0;34m(address, timeout, source_address)\u001b[0m\n\u001b[1;32m    844\u001b[0m         \u001b[0;32mtry\u001b[0m\u001b[0;34m:\u001b[0m\u001b[0;34m\u001b[0m\u001b[0;34m\u001b[0m\u001b[0m\n\u001b[0;32m--> 845\u001b[0;31m             \u001b[0;32mraise\u001b[0m \u001b[0merr\u001b[0m\u001b[0;34m\u001b[0m\u001b[0;34m\u001b[0m\u001b[0m\n\u001b[0m\u001b[1;32m    846\u001b[0m         \u001b[0;32mfinally\u001b[0m\u001b[0;34m:\u001b[0m\u001b[0;34m\u001b[0m\u001b[0;34m\u001b[0m\u001b[0m\n",
            "\u001b[0;32m/usr/lib/python3.10/socket.py\u001b[0m in \u001b[0;36mcreate_connection\u001b[0;34m(address, timeout, source_address)\u001b[0m\n\u001b[1;32m    832\u001b[0m                 \u001b[0msock\u001b[0m\u001b[0;34m.\u001b[0m\u001b[0mbind\u001b[0m\u001b[0;34m(\u001b[0m\u001b[0msource_address\u001b[0m\u001b[0;34m)\u001b[0m\u001b[0;34m\u001b[0m\u001b[0;34m\u001b[0m\u001b[0m\n\u001b[0;32m--> 833\u001b[0;31m             \u001b[0msock\u001b[0m\u001b[0;34m.\u001b[0m\u001b[0mconnect\u001b[0m\u001b[0;34m(\u001b[0m\u001b[0msa\u001b[0m\u001b[0;34m)\u001b[0m\u001b[0;34m\u001b[0m\u001b[0;34m\u001b[0m\u001b[0m\n\u001b[0m\u001b[1;32m    834\u001b[0m             \u001b[0;31m# Break explicitly a reference cycle\u001b[0m\u001b[0;34m\u001b[0m\u001b[0;34m\u001b[0m\u001b[0m\n",
            "\u001b[0;31mTimeoutError\u001b[0m: [Errno 110] Connection timed out",
            "\nDuring handling of the above exception, another exception occurred:\n",
            "\u001b[0;31mURLError\u001b[0m                                  Traceback (most recent call last)",
            "\u001b[0;32m<ipython-input-119-1bc52412333b>\u001b[0m in \u001b[0;36m<cell line: 1>\u001b[0;34m()\u001b[0m\n\u001b[0;32m----> 1\u001b[0;31m \u001b[0mdata\u001b[0m \u001b[0;34m=\u001b[0m \u001b[0murllib\u001b[0m\u001b[0;34m.\u001b[0m\u001b[0mrequest\u001b[0m\u001b[0;34m.\u001b[0m\u001b[0murlopen\u001b[0m\u001b[0;34m(\u001b[0m\u001b[0mpage1_url\u001b[0m\u001b[0;34m)\u001b[0m\u001b[0;34m\u001b[0m\u001b[0;34m\u001b[0m\u001b[0m\n\u001b[0m\u001b[1;32m      2\u001b[0m \u001b[0mprint\u001b[0m\u001b[0;34m(\u001b[0m\u001b[0mdata\u001b[0m\u001b[0;34m)\u001b[0m\u001b[0;34m\u001b[0m\u001b[0;34m\u001b[0m\u001b[0m\n",
            "\u001b[0;32m/usr/lib/python3.10/urllib/request.py\u001b[0m in \u001b[0;36murlopen\u001b[0;34m(url, data, timeout, cafile, capath, cadefault, context)\u001b[0m\n\u001b[1;32m    214\u001b[0m     \u001b[0;32melse\u001b[0m\u001b[0;34m:\u001b[0m\u001b[0;34m\u001b[0m\u001b[0;34m\u001b[0m\u001b[0m\n\u001b[1;32m    215\u001b[0m         \u001b[0mopener\u001b[0m \u001b[0;34m=\u001b[0m \u001b[0m_opener\u001b[0m\u001b[0;34m\u001b[0m\u001b[0;34m\u001b[0m\u001b[0m\n\u001b[0;32m--> 216\u001b[0;31m     \u001b[0;32mreturn\u001b[0m \u001b[0mopener\u001b[0m\u001b[0;34m.\u001b[0m\u001b[0mopen\u001b[0m\u001b[0;34m(\u001b[0m\u001b[0murl\u001b[0m\u001b[0;34m,\u001b[0m \u001b[0mdata\u001b[0m\u001b[0;34m,\u001b[0m \u001b[0mtimeout\u001b[0m\u001b[0;34m)\u001b[0m\u001b[0;34m\u001b[0m\u001b[0;34m\u001b[0m\u001b[0m\n\u001b[0m\u001b[1;32m    217\u001b[0m \u001b[0;34m\u001b[0m\u001b[0m\n\u001b[1;32m    218\u001b[0m \u001b[0;32mdef\u001b[0m \u001b[0minstall_opener\u001b[0m\u001b[0;34m(\u001b[0m\u001b[0mopener\u001b[0m\u001b[0;34m)\u001b[0m\u001b[0;34m:\u001b[0m\u001b[0;34m\u001b[0m\u001b[0;34m\u001b[0m\u001b[0m\n",
            "\u001b[0;32m/usr/lib/python3.10/urllib/request.py\u001b[0m in \u001b[0;36mopen\u001b[0;34m(self, fullurl, data, timeout)\u001b[0m\n\u001b[1;32m    517\u001b[0m \u001b[0;34m\u001b[0m\u001b[0m\n\u001b[1;32m    518\u001b[0m         \u001b[0msys\u001b[0m\u001b[0;34m.\u001b[0m\u001b[0maudit\u001b[0m\u001b[0;34m(\u001b[0m\u001b[0;34m'urllib.Request'\u001b[0m\u001b[0;34m,\u001b[0m \u001b[0mreq\u001b[0m\u001b[0;34m.\u001b[0m\u001b[0mfull_url\u001b[0m\u001b[0;34m,\u001b[0m \u001b[0mreq\u001b[0m\u001b[0;34m.\u001b[0m\u001b[0mdata\u001b[0m\u001b[0;34m,\u001b[0m \u001b[0mreq\u001b[0m\u001b[0;34m.\u001b[0m\u001b[0mheaders\u001b[0m\u001b[0;34m,\u001b[0m \u001b[0mreq\u001b[0m\u001b[0;34m.\u001b[0m\u001b[0mget_method\u001b[0m\u001b[0;34m(\u001b[0m\u001b[0;34m)\u001b[0m\u001b[0;34m)\u001b[0m\u001b[0;34m\u001b[0m\u001b[0;34m\u001b[0m\u001b[0m\n\u001b[0;32m--> 519\u001b[0;31m         \u001b[0mresponse\u001b[0m \u001b[0;34m=\u001b[0m \u001b[0mself\u001b[0m\u001b[0;34m.\u001b[0m\u001b[0m_open\u001b[0m\u001b[0;34m(\u001b[0m\u001b[0mreq\u001b[0m\u001b[0;34m,\u001b[0m \u001b[0mdata\u001b[0m\u001b[0;34m)\u001b[0m\u001b[0;34m\u001b[0m\u001b[0;34m\u001b[0m\u001b[0m\n\u001b[0m\u001b[1;32m    520\u001b[0m \u001b[0;34m\u001b[0m\u001b[0m\n\u001b[1;32m    521\u001b[0m         \u001b[0;31m# post-process response\u001b[0m\u001b[0;34m\u001b[0m\u001b[0;34m\u001b[0m\u001b[0m\n",
            "\u001b[0;32m/usr/lib/python3.10/urllib/request.py\u001b[0m in \u001b[0;36m_open\u001b[0;34m(self, req, data)\u001b[0m\n\u001b[1;32m    534\u001b[0m \u001b[0;34m\u001b[0m\u001b[0m\n\u001b[1;32m    535\u001b[0m         \u001b[0mprotocol\u001b[0m \u001b[0;34m=\u001b[0m \u001b[0mreq\u001b[0m\u001b[0;34m.\u001b[0m\u001b[0mtype\u001b[0m\u001b[0;34m\u001b[0m\u001b[0;34m\u001b[0m\u001b[0m\n\u001b[0;32m--> 536\u001b[0;31m         result = self._call_chain(self.handle_open, protocol, protocol +\n\u001b[0m\u001b[1;32m    537\u001b[0m                                   '_open', req)\n\u001b[1;32m    538\u001b[0m         \u001b[0;32mif\u001b[0m \u001b[0mresult\u001b[0m\u001b[0;34m:\u001b[0m\u001b[0;34m\u001b[0m\u001b[0;34m\u001b[0m\u001b[0m\n",
            "\u001b[0;32m/usr/lib/python3.10/urllib/request.py\u001b[0m in \u001b[0;36m_call_chain\u001b[0;34m(self, chain, kind, meth_name, *args)\u001b[0m\n\u001b[1;32m    494\u001b[0m         \u001b[0;32mfor\u001b[0m \u001b[0mhandler\u001b[0m \u001b[0;32min\u001b[0m \u001b[0mhandlers\u001b[0m\u001b[0;34m:\u001b[0m\u001b[0;34m\u001b[0m\u001b[0;34m\u001b[0m\u001b[0m\n\u001b[1;32m    495\u001b[0m             \u001b[0mfunc\u001b[0m \u001b[0;34m=\u001b[0m \u001b[0mgetattr\u001b[0m\u001b[0;34m(\u001b[0m\u001b[0mhandler\u001b[0m\u001b[0;34m,\u001b[0m \u001b[0mmeth_name\u001b[0m\u001b[0;34m)\u001b[0m\u001b[0;34m\u001b[0m\u001b[0;34m\u001b[0m\u001b[0m\n\u001b[0;32m--> 496\u001b[0;31m             \u001b[0mresult\u001b[0m \u001b[0;34m=\u001b[0m \u001b[0mfunc\u001b[0m\u001b[0;34m(\u001b[0m\u001b[0;34m*\u001b[0m\u001b[0margs\u001b[0m\u001b[0;34m)\u001b[0m\u001b[0;34m\u001b[0m\u001b[0;34m\u001b[0m\u001b[0m\n\u001b[0m\u001b[1;32m    497\u001b[0m             \u001b[0;32mif\u001b[0m \u001b[0mresult\u001b[0m \u001b[0;32mis\u001b[0m \u001b[0;32mnot\u001b[0m \u001b[0;32mNone\u001b[0m\u001b[0;34m:\u001b[0m\u001b[0;34m\u001b[0m\u001b[0;34m\u001b[0m\u001b[0m\n\u001b[1;32m    498\u001b[0m                 \u001b[0;32mreturn\u001b[0m \u001b[0mresult\u001b[0m\u001b[0;34m\u001b[0m\u001b[0;34m\u001b[0m\u001b[0m\n",
            "\u001b[0;32m/usr/lib/python3.10/urllib/request.py\u001b[0m in \u001b[0;36mhttps_open\u001b[0;34m(self, req)\u001b[0m\n\u001b[1;32m   1389\u001b[0m \u001b[0;34m\u001b[0m\u001b[0m\n\u001b[1;32m   1390\u001b[0m         \u001b[0;32mdef\u001b[0m \u001b[0mhttps_open\u001b[0m\u001b[0;34m(\u001b[0m\u001b[0mself\u001b[0m\u001b[0;34m,\u001b[0m \u001b[0mreq\u001b[0m\u001b[0;34m)\u001b[0m\u001b[0;34m:\u001b[0m\u001b[0;34m\u001b[0m\u001b[0;34m\u001b[0m\u001b[0m\n\u001b[0;32m-> 1391\u001b[0;31m             return self.do_open(http.client.HTTPSConnection, req,\n\u001b[0m\u001b[1;32m   1392\u001b[0m                 context=self._context, check_hostname=self._check_hostname)\n\u001b[1;32m   1393\u001b[0m \u001b[0;34m\u001b[0m\u001b[0m\n",
            "\u001b[0;32m/usr/lib/python3.10/urllib/request.py\u001b[0m in \u001b[0;36mdo_open\u001b[0;34m(self, http_class, req, **http_conn_args)\u001b[0m\n\u001b[1;32m   1349\u001b[0m                           encode_chunked=req.has_header('Transfer-encoding'))\n\u001b[1;32m   1350\u001b[0m             \u001b[0;32mexcept\u001b[0m \u001b[0mOSError\u001b[0m \u001b[0;32mas\u001b[0m \u001b[0merr\u001b[0m\u001b[0;34m:\u001b[0m \u001b[0;31m# timeout error\u001b[0m\u001b[0;34m\u001b[0m\u001b[0;34m\u001b[0m\u001b[0m\n\u001b[0;32m-> 1351\u001b[0;31m                 \u001b[0;32mraise\u001b[0m \u001b[0mURLError\u001b[0m\u001b[0;34m(\u001b[0m\u001b[0merr\u001b[0m\u001b[0;34m)\u001b[0m\u001b[0;34m\u001b[0m\u001b[0;34m\u001b[0m\u001b[0m\n\u001b[0m\u001b[1;32m   1352\u001b[0m             \u001b[0mr\u001b[0m \u001b[0;34m=\u001b[0m \u001b[0mh\u001b[0m\u001b[0;34m.\u001b[0m\u001b[0mgetresponse\u001b[0m\u001b[0;34m(\u001b[0m\u001b[0;34m)\u001b[0m\u001b[0;34m\u001b[0m\u001b[0;34m\u001b[0m\u001b[0m\n\u001b[1;32m   1353\u001b[0m         \u001b[0;32mexcept\u001b[0m\u001b[0;34m:\u001b[0m\u001b[0;34m\u001b[0m\u001b[0;34m\u001b[0m\u001b[0m\n",
            "\u001b[0;31mURLError\u001b[0m: <urlopen error [Errno 110] Connection timed out>"
          ]
        }
      ],
      "source": [
        "data = urllib.request.urlopen(page1_url)\n",
        "print(data)"
      ]
    },
    {
      "cell_type": "code",
      "execution_count": null,
      "metadata": {
        "colab": {
          "background_save": true
        },
        "id": "YxPp_lR0ntxG"
      },
      "outputs": [],
      "source": [
        "page_request = requests.get(page1_url)\n",
        "page_file = json.loads(page_request.content)\n",
        "print(page_file)"
      ]
    },
    {
      "cell_type": "code",
      "execution_count": null,
      "metadata": {
        "colab": {
          "background_save": true
        },
        "id": "Fn2mEOixLetE"
      },
      "outputs": [],
      "source": [
        "for element_index in range(len(page_file)):\n",
        "    element = page_file[element_index]\n",
        "    if (element['field_speakers'] != ''):\n",
        "        print(str(element_index) + \" \" + str(element['field_speakers']))\n"
      ]
    },
    {
      "cell_type": "code",
      "execution_count": null,
      "metadata": {
        "colab": {
          "background_save": true
        },
        "id": "d5g1CL3yLetE"
      },
      "outputs": [],
      "source": [
        "page_file[1]"
      ]
    },
    {
      "cell_type": "code",
      "execution_count": null,
      "metadata": {
        "colab": {
          "background_save": true
        },
        "id": "5luPziLuLetE"
      },
      "outputs": [],
      "source": [
        "recListAndrei"
      ]
    },
    {
      "cell_type": "code",
      "execution_count": null,
      "metadata": {
        "colab": {
          "background_save": true
        },
        "id": "i1D0TxRZLetE"
      },
      "outputs": [],
      "source": [
        "def myFunc(e):\n",
        "  return e[-1]\n",
        "\n",
        "new_list.sort(reverse=True, key=myFunc)\n",
        "new_list"
      ]
    },
    {
      "cell_type": "code",
      "execution_count": null,
      "metadata": {
        "colab": {
          "background_save": true
        },
        "id": "VUzHWVeALetE",
        "scrolled": true
      },
      "outputs": [],
      "source": [
        "for element in new_list:\n",
        "    print(element[0])"
      ]
    },
    {
      "cell_type": "code",
      "execution_count": null,
      "metadata": {
        "colab": {
          "background_save": true
        },
        "id": "7ELfWZ-4LetF",
        "scrolled": true
      },
      "outputs": [],
      "source": [
        "str(seminar_list[3])"
      ]
    },
    {
      "cell_type": "code",
      "execution_count": null,
      "metadata": {
        "colab": {
          "background_save": true
        },
        "id": "r71er60FR_sb"
      },
      "outputs": [],
      "source": [
        "andrei.calcKeywordScore(seminar_list[3])\n",
        "keywordList = andrei.keywordList\n",
        "randomSeminar = seminar_list[15]"
      ]
    },
    {
      "cell_type": "code",
      "execution_count": null,
      "metadata": {
        "colab": {
          "background_save": true
        },
        "id": "zG9MZnONSfSC"
      },
      "outputs": [],
      "source": [
        "quickConnectionSearch(andrei, randomSeminar, debug=1)"
      ]
    },
    {
      "cell_type": "code",
      "execution_count": null,
      "metadata": {
        "colab": {
          "background_save": true
        },
        "id": "PCNOlUntYInU"
      },
      "outputs": [],
      "source": [
        "cc = findPageCoauthsFromName('Andrei Constantin')"
      ]
    },
    {
      "cell_type": "code",
      "execution_count": null,
      "metadata": {
        "colab": {
          "background_save": true
        },
        "id": "ApX_Rh3MLes7"
      },
      "outputs": [],
      "source": [
        "new_list = []\n",
        "for i in range(len(seminar_list)):\n",
        "    new_list.append([seminar_list[i], temp_score_list[i]])\n",
        "new_list"
      ]
    }
  ],
  "metadata": {
    "colab": {
      "collapsed_sections": [
        "ClGFdGCUw8KL",
        "pDeHbW1OOtQS",
        "Z4fuASi4M_1I",
        "9Ho_NZicDs4n",
        "SD2iLOrXvBma"
      ],
      "provenance": []
    },
    "kernelspec": {
      "display_name": "Python 3 (ipykernel)",
      "language": "python",
      "name": "python3"
    },
    "language_info": {
      "codemirror_mode": {
        "name": "ipython",
        "version": 3
      },
      "file_extension": ".py",
      "mimetype": "text/x-python",
      "name": "python",
      "nbconvert_exporter": "python",
      "pygments_lexer": "ipython3",
      "version": "3.10.6"
    },
    "varInspector": {
      "cols": {
        "lenName": 16,
        "lenType": 16,
        "lenVar": 40
      },
      "kernels_config": {
        "python": {
          "delete_cmd_postfix": "",
          "delete_cmd_prefix": "del ",
          "library": "var_list.py",
          "varRefreshCmd": "print(var_dic_list())"
        },
        "r": {
          "delete_cmd_postfix": ") ",
          "delete_cmd_prefix": "rm(",
          "library": "var_list.r",
          "varRefreshCmd": "cat(var_dic_list()) "
        }
      },
      "types_to_exclude": [
        "module",
        "function",
        "builtin_function_or_method",
        "instance",
        "_Feature"
      ],
      "window_display": false
    }
  },
  "nbformat": 4,
  "nbformat_minor": 0
}